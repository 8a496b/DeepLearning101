{
 "cells": [
  {
   "cell_type": "code",
   "execution_count": 1,
   "metadata": {},
   "outputs": [],
   "source": [
    "''' 1. 모듈 임포트 '''\n",
    "import numpy as np                            \n",
    "import matplotlib.pyplot as plt               \n",
    "import torch                                  \n",
    "import torch.nn as nn                         \n",
    "import torch.nn.functional as F               \n",
    "from torchvision import transforms, datasets  "
   ]
  },
  {
   "cell_type": "code",
   "execution_count": 2,
   "metadata": {},
   "outputs": [
    {
     "name": "stdout",
     "output_type": "stream",
     "text": [
      "Using PyTorch version: 1.5.0+cu101  Device: cuda\n"
     ]
    }
   ],
   "source": [
    "''' 2. 딥러닝 모델을 설계할 때 활용하는 장비 확인 '''\n",
    "if torch.cuda.is_available():\n",
    "    DEVICE = torch.device('cuda')\n",
    "else:\n",
    "    DEVICE = torch.device('cpu')\n",
    "\n",
    "print('Using PyTorch version:', torch.__version__, ' Device:', DEVICE)"
   ]
  },
  {
   "cell_type": "code",
   "execution_count": 3,
   "metadata": {},
   "outputs": [],
   "source": [
    "BATCH_SIZE = 32 \n",
    "EPOCHS = 10     "
   ]
  },
  {
   "cell_type": "code",
   "execution_count": 4,
   "metadata": {},
   "outputs": [],
   "source": [
    "''' 3. MNIST 데이터 다운로드 (Train set, Test set 분리하기) '''\n",
    "train_dataset = datasets.MNIST(root = \"../data/MNIST\",                  \n",
    "                               train = True,\n",
    "                               download = True,\n",
    "                               transform = transforms.ToTensor())\n",
    "\n",
    "test_dataset = datasets.MNIST(root = '../data/MNIST',                   \n",
    "                              train = False,\n",
    "                              transform = transforms.ToTensor())\n",
    "\n",
    "train_loader = torch.utils.data.DataLoader(dataset = train_dataset,    \n",
    "                                           batch_size = BATCH_SIZE,\n",
    "                                           shuffle = True)\n",
    "\n",
    "test_loader = torch.utils.data.DataLoader(dataset = test_dataset,      \n",
    "                                          batch_size = BATCH_SIZE, \n",
    "                                          shuffle = False)"
   ]
  },
  {
   "cell_type": "code",
   "execution_count": 5,
   "metadata": {},
   "outputs": [
    {
     "name": "stdout",
     "output_type": "stream",
     "text": [
      "X_train: torch.Size([32, 1, 28, 28]) type: torch.FloatTensor\n",
      "y_train: torch.Size([32]) type: torch.LongTensor\n"
     ]
    }
   ],
   "source": [
    "''' 4. 데이터 확인하기 (1) '''\n",
    "for (X_train, y_train) in train_loader:\n",
    "    print('X_train:', X_train.size(), 'type:', X_train.type())\n",
    "    print('y_train:', y_train.size(), 'type:', y_train.type())\n",
    "    break "
   ]
  },
  {
   "cell_type": "code",
   "execution_count": 6,
   "metadata": {},
   "outputs": [
    {
     "data": {
      "image/png": "[encoded data removed]",
      "text/plain": [
       "<Figure size 720x72 with 10 Axes>"
      ]
     },
     "metadata": {
      "needs_background": "light"
     },
     "output_type": "display_data"
    }
   ],
   "source": [
    "''' 4. 데이터 확인하기 (2) '''\n",
    "pltsize = 1\n",
    "plt.figure(figsize=(10 * pltsize, pltsize))\n",
    "\n",
    "for i in range(10):\n",
    "    plt.subplot(1, 10, i + 1)\n",
    "    plt.axis('off')\n",
    "    plt.imshow(X_train[i, :, :, :].numpy().reshape(28, 28), cmap = \"gray_r\")\n",
    "    plt.title('Class: ' + str(y_train[i].item()))"
   ]
  },
  {
   "cell_type": "code",
   "execution_count": 7,
   "metadata": {},
   "outputs": [],
   "source": [
    "''' 5. MLP (Multi Layer Perceptron) 모델 설계하기 '''\n",
    "class Net(nn.Module):                         \n",
    "    def __init__(self):                       \n",
    "        super(Net, self).__init__()           \n",
    "        self.fc1 = nn.Linear(28 * 28, 512)    \n",
    "        self.fc2 = nn.Linear(512, 256)        \n",
    "        self.fc3 = nn.Linear(256, 10)      \n",
    "        self.dropout_prob = 0.5\n",
    "        self.batch_norm1 = nn.BatchNorm1d(512)\n",
    "        self.batch_norm2 = nn.BatchNorm1d(256)\n",
    "    \n",
    "    def forward(self, x):                  \n",
    "        x = x.view(-1, 28 * 28)            \n",
    "        x = self.fc1(x)                    \n",
    "        x = self.batch_norm1(x)\n",
    "        x = F.relu(x)                      \n",
    "        x = F.dropout(x, training = self.training, p = self.dropout_prob)\n",
    "        x = self.fc2(x)                    \n",
    "        x = self.batch_norm2(x)\n",
    "        x = F.relu(x)                      \n",
    "        x = F.dropout(x, training = self.training, p = self.dropout_prob)\n",
    "        x = self.fc3(x)                    \n",
    "        x = F.log_softmax(x, dim = 1)      \n",
    "        return x                           "
   ]
  },
  {
   "cell_type": "code",
   "execution_count": 8,
   "metadata": {},
   "outputs": [
    {
     "name": "stdout",
     "output_type": "stream",
     "text": [
      "Net(\n",
      "  (fc1): Linear(in_features=784, out_features=512, bias=True)\n",
      "  (fc2): Linear(in_features=512, out_features=256, bias=True)\n",
      "  (fc3): Linear(in_features=256, out_features=10, bias=True)\n",
      "  (batch_norm1): BatchNorm1d(512, eps=1e-05, momentum=0.1, affine=True, track_running_stats=True)\n",
      "  (batch_norm2): BatchNorm1d(256, eps=1e-05, momentum=0.1, affine=True, track_running_stats=True)\n",
      ")\n"
     ]
    }
   ],
   "source": [
    "''' 6. Optimizer, Objective Function 설정하기 '''\n",
    "\n",
    "import torch.nn.init as init\n",
    "def weight_init(m):\n",
    "    if isinstance(m, nn.Linear):\n",
    "        init.kaiming_uniform_(m.weight.data)\n",
    "\n",
    "model = Net().to(DEVICE)\n",
    "model.apply(weight_init)\n",
    "optimizer = torch.optim.SGD(model.parameters(), lr=0.01, momentum=0.5)\n",
    "criterion = nn.CrossEntropyLoss()\n",
    "\n",
    "print(model)"
   ]
  },
  {
   "cell_type": "code",
   "execution_count": 9,
   "metadata": {},
   "outputs": [],
   "source": [
    "''' 7. MLP 학습, Test 성능 확인하는 함수 정의 '''\n",
    "def train(model, train_loader, optimizer, log_interval):\n",
    "    model.train()\n",
    "    for batch_idx, (image, label) in enumerate(train_loader):\n",
    "        image = image.to(DEVICE)\n",
    "        label = label.to(DEVICE)\n",
    "        optimizer.zero_grad()\n",
    "        output = model(image)\n",
    "        loss = criterion(output, label)\n",
    "        loss.backward()\n",
    "        optimizer.step()\n",
    "\n",
    "        if batch_idx % log_interval == 0:\n",
    "            print(\"Train Epoch: {} [{}/{} ({:.0f}%)]\\tTrain Loss: {:.6f}\".format(\n",
    "                epoch, batch_idx * len(image), \n",
    "                len(train_loader.dataset), 100. * batch_idx / len(train_loader), \n",
    "                loss.item()))"
   ]
  },
  {
   "cell_type": "code",
   "execution_count": 10,
   "metadata": {},
   "outputs": [],
   "source": [
    "def evaluate(model, valid_loader):\n",
    "    model.eval()\n",
    "    valid_loss = 0\n",
    "    correct = 0\n",
    "\n",
    "    with torch.no_grad():\n",
    "        for image, label in valid_loader:\n",
    "            image = image.to(DEVICE)\n",
    "            label = label.to(DEVICE)\n",
    "            output = model(image)\n",
    "            valid_loss += criterion(output, label).item()\n",
    "            prediction = output.max(1, keepdim = True)[1]\n",
    "            correct += prediction.eq(label.view_as(prediction)).sum().item()\n",
    "    \n",
    "    valid_loss /= len(valid_loader.dataset)\n",
    "    valid_accuracy = 100. * correct / len(valid_loader.dataset)\n",
    "    return valid_loss, valid_accuracy"
   ]
  },
  {
   "cell_type": "code",
   "execution_count": 11,
   "metadata": {},
   "outputs": [
    {
     "name": "stdout",
     "output_type": "stream",
     "text": [
      "Train Epoch: 1 [0/60000 (0%)]\tTrain Loss: 2.751188\n",
      "Train Epoch: 1 [6400/60000 (11%)]\tTrain Loss: 0.781816\n",
      "Train Epoch: 1 [12800/60000 (21%)]\tTrain Loss: 0.768295\n",
      "Train Epoch: 1 [19200/60000 (32%)]\tTrain Loss: 0.806427\n",
      "Train Epoch: 1 [25600/60000 (43%)]\tTrain Loss: 0.344467\n",
      "Train Epoch: 1 [32000/60000 (53%)]\tTrain Loss: 0.343892\n",
      "Train Epoch: 1 [38400/60000 (64%)]\tTrain Loss: 0.975990\n",
      "Train Epoch: 1 [44800/60000 (75%)]\tTrain Loss: 0.352197\n",
      "Train Epoch: 1 [51200/60000 (85%)]\tTrain Loss: 0.434425\n",
      "Train Epoch: 1 [57600/60000 (96%)]\tTrain Loss: 0.248108\n",
      "\n",
      "[EPOCH: 1], \tValidation Loss: 0.0069, \tValidation Accuracy: 93.56 % \n",
      "\n",
      "Train Epoch: 2 [0/60000 (0%)]\tTrain Loss: 0.412618\n",
      "Train Epoch: 2 [6400/60000 (11%)]\tTrain Loss: 0.209513\n",
      "Train Epoch: 2 [12800/60000 (21%)]\tTrain Loss: 0.597469\n",
      "Train Epoch: 2 [19200/60000 (32%)]\tTrain Loss: 0.295927\n",
      "Train Epoch: 2 [25600/60000 (43%)]\tTrain Loss: 0.438429\n",
      "Train Epoch: 2 [32000/60000 (53%)]\tTrain Loss: 0.333026\n",
      "Train Epoch: 2 [38400/60000 (64%)]\tTrain Loss: 0.427484\n",
      "Train Epoch: 2 [44800/60000 (75%)]\tTrain Loss: 0.480481\n",
      "Train Epoch: 2 [51200/60000 (85%)]\tTrain Loss: 0.127045\n",
      "Train Epoch: 2 [57600/60000 (96%)]\tTrain Loss: 0.747286\n",
      "\n",
      "[EPOCH: 2], \tValidation Loss: 0.0053, \tValidation Accuracy: 94.89 % \n",
      "\n",
      "Train Epoch: 3 [0/60000 (0%)]\tTrain Loss: 0.422761\n",
      "Train Epoch: 3 [6400/60000 (11%)]\tTrain Loss: 0.192765\n",
      "Train Epoch: 3 [12800/60000 (21%)]\tTrain Loss: 0.517940\n",
      "Train Epoch: 3 [19200/60000 (32%)]\tTrain Loss: 0.250976\n",
      "Train Epoch: 3 [25600/60000 (43%)]\tTrain Loss: 0.253846\n",
      "Train Epoch: 3 [32000/60000 (53%)]\tTrain Loss: 0.172388\n",
      "Train Epoch: 3 [38400/60000 (64%)]\tTrain Loss: 0.299167\n",
      "Train Epoch: 3 [44800/60000 (75%)]\tTrain Loss: 0.398273\n",
      "Train Epoch: 3 [51200/60000 (85%)]\tTrain Loss: 0.363980\n",
      "Train Epoch: 3 [57600/60000 (96%)]\tTrain Loss: 0.133186\n",
      "\n",
      "[EPOCH: 3], \tValidation Loss: 0.0045, \tValidation Accuracy: 95.62 % \n",
      "\n",
      "Train Epoch: 4 [0/60000 (0%)]\tTrain Loss: 0.587977\n",
      "Train Epoch: 4 [6400/60000 (11%)]\tTrain Loss: 0.174495\n",
      "Train Epoch: 4 [12800/60000 (21%)]\tTrain Loss: 0.286062\n",
      "Train Epoch: 4 [19200/60000 (32%)]\tTrain Loss: 0.606641\n",
      "Train Epoch: 4 [25600/60000 (43%)]\tTrain Loss: 0.176730\n",
      "Train Epoch: 4 [32000/60000 (53%)]\tTrain Loss: 0.253978\n",
      "Train Epoch: 4 [38400/60000 (64%)]\tTrain Loss: 0.427972\n",
      "Train Epoch: 4 [44800/60000 (75%)]\tTrain Loss: 0.616609\n",
      "Train Epoch: 4 [51200/60000 (85%)]\tTrain Loss: 0.199641\n",
      "Train Epoch: 4 [57600/60000 (96%)]\tTrain Loss: 0.214954\n",
      "\n",
      "[EPOCH: 4], \tValidation Loss: 0.0041, \tValidation Accuracy: 96.00 % \n",
      "\n",
      "Train Epoch: 5 [0/60000 (0%)]\tTrain Loss: 0.196875\n",
      "Train Epoch: 5 [6400/60000 (11%)]\tTrain Loss: 0.273938\n",
      "Train Epoch: 5 [12800/60000 (21%)]\tTrain Loss: 0.135464\n",
      "Train Epoch: 5 [19200/60000 (32%)]\tTrain Loss: 0.219037\n",
      "Train Epoch: 5 [25600/60000 (43%)]\tTrain Loss: 0.237008\n",
      "Train Epoch: 5 [32000/60000 (53%)]\tTrain Loss: 0.125827\n",
      "Train Epoch: 5 [38400/60000 (64%)]\tTrain Loss: 0.561055\n",
      "Train Epoch: 5 [44800/60000 (75%)]\tTrain Loss: 0.221885\n",
      "Train Epoch: 5 [51200/60000 (85%)]\tTrain Loss: 0.257410\n",
      "Train Epoch: 5 [57600/60000 (96%)]\tTrain Loss: 0.070483\n",
      "\n",
      "[EPOCH: 5], \tValidation Loss: 0.0036, \tValidation Accuracy: 96.53 % \n",
      "\n",
      "Train Epoch: 6 [0/60000 (0%)]\tTrain Loss: 0.252152\n",
      "Train Epoch: 6 [6400/60000 (11%)]\tTrain Loss: 0.122036\n",
      "Train Epoch: 6 [12800/60000 (21%)]\tTrain Loss: 0.081778\n",
      "Train Epoch: 6 [19200/60000 (32%)]\tTrain Loss: 0.145927\n",
      "Train Epoch: 6 [25600/60000 (43%)]\tTrain Loss: 0.326285\n",
      "Train Epoch: 6 [32000/60000 (53%)]\tTrain Loss: 0.206568\n",
      "Train Epoch: 6 [38400/60000 (64%)]\tTrain Loss: 0.193842\n",
      "Train Epoch: 6 [44800/60000 (75%)]\tTrain Loss: 0.472213\n",
      "Train Epoch: 6 [51200/60000 (85%)]\tTrain Loss: 0.170397\n",
      "Train Epoch: 6 [57600/60000 (96%)]\tTrain Loss: 0.361744\n",
      "\n",
      "[EPOCH: 6], \tValidation Loss: 0.0034, \tValidation Accuracy: 96.74 % \n",
      "\n",
      "Train Epoch: 7 [0/60000 (0%)]\tTrain Loss: 0.370665\n",
      "Train Epoch: 7 [6400/60000 (11%)]\tTrain Loss: 0.195252\n",
      "Train Epoch: 7 [12800/60000 (21%)]\tTrain Loss: 0.456870\n",
      "Train Epoch: 7 [19200/60000 (32%)]\tTrain Loss: 0.315576\n",
      "Train Epoch: 7 [25600/60000 (43%)]\tTrain Loss: 0.178072\n",
      "Train Epoch: 7 [32000/60000 (53%)]\tTrain Loss: 0.330897\n",
      "Train Epoch: 7 [38400/60000 (64%)]\tTrain Loss: 0.080079\n",
      "Train Epoch: 7 [44800/60000 (75%)]\tTrain Loss: 0.490121\n",
      "Train Epoch: 7 [51200/60000 (85%)]\tTrain Loss: 0.097058\n",
      "Train Epoch: 7 [57600/60000 (96%)]\tTrain Loss: 0.080057\n",
      "\n",
      "[EPOCH: 7], \tValidation Loss: 0.0032, \tValidation Accuracy: 96.90 % \n",
      "\n",
      "Train Epoch: 8 [0/60000 (0%)]\tTrain Loss: 0.315582\n",
      "Train Epoch: 8 [6400/60000 (11%)]\tTrain Loss: 0.212914\n",
      "Train Epoch: 8 [12800/60000 (21%)]\tTrain Loss: 0.272392\n",
      "Train Epoch: 8 [19200/60000 (32%)]\tTrain Loss: 0.289771\n",
      "Train Epoch: 8 [25600/60000 (43%)]\tTrain Loss: 0.126708\n",
      "Train Epoch: 8 [32000/60000 (53%)]\tTrain Loss: 0.252565\n",
      "Train Epoch: 8 [38400/60000 (64%)]\tTrain Loss: 0.191216\n",
      "Train Epoch: 8 [44800/60000 (75%)]\tTrain Loss: 0.070301\n",
      "Train Epoch: 8 [51200/60000 (85%)]\tTrain Loss: 0.101554\n",
      "Train Epoch: 8 [57600/60000 (96%)]\tTrain Loss: 0.111434\n",
      "\n",
      "[EPOCH: 8], \tValidation Loss: 0.0031, \tValidation Accuracy: 97.04 % \n",
      "\n",
      "Train Epoch: 9 [0/60000 (0%)]\tTrain Loss: 0.202992\n",
      "Train Epoch: 9 [6400/60000 (11%)]\tTrain Loss: 0.127114\n",
      "Train Epoch: 9 [12800/60000 (21%)]\tTrain Loss: 0.053117\n",
      "Train Epoch: 9 [19200/60000 (32%)]\tTrain Loss: 0.207596\n",
      "Train Epoch: 9 [25600/60000 (43%)]\tTrain Loss: 0.156887\n",
      "Train Epoch: 9 [32000/60000 (53%)]\tTrain Loss: 0.057206\n",
      "Train Epoch: 9 [38400/60000 (64%)]\tTrain Loss: 0.280904\n",
      "Train Epoch: 9 [44800/60000 (75%)]\tTrain Loss: 0.295341\n",
      "Train Epoch: 9 [51200/60000 (85%)]\tTrain Loss: 0.160579\n",
      "Train Epoch: 9 [57600/60000 (96%)]\tTrain Loss: 0.157906\n",
      "\n",
      "[EPOCH: 9], \tValidation Loss: 0.0028, \tValidation Accuracy: 97.30 % \n",
      "\n",
      "Train Epoch: 10 [0/60000 (0%)]\tTrain Loss: 0.212047\n",
      "Train Epoch: 10 [6400/60000 (11%)]\tTrain Loss: 0.050417\n",
      "Train Epoch: 10 [12800/60000 (21%)]\tTrain Loss: 0.448444\n",
      "Train Epoch: 10 [19200/60000 (32%)]\tTrain Loss: 0.147625\n",
      "Train Epoch: 10 [25600/60000 (43%)]\tTrain Loss: 0.475780\n",
      "Train Epoch: 10 [32000/60000 (53%)]\tTrain Loss: 0.262487\n",
      "Train Epoch: 10 [38400/60000 (64%)]\tTrain Loss: 0.103084\n",
      "Train Epoch: 10 [44800/60000 (75%)]\tTrain Loss: 0.255751\n",
      "Train Epoch: 10 [51200/60000 (85%)]\tTrain Loss: 0.224175\n",
      "Train Epoch: 10 [57600/60000 (96%)]\tTrain Loss: 0.070223\n",
      "\n",
      "[EPOCH: 10], \tValidation Loss: 0.0027, \tValidation Accuracy: 97.44 % \n",
      "\n"
     ]
    }
   ],
   "source": [
    "''' 8. MLP 학습 실행 '''\n",
    "''' 9. EPOCH 별 Test set Loss 및 Test set Accuracy 확인하기 '''\n",
    "for epoch in range(1, EPOCHS + 1):\n",
    "    train(model, train_loader, optimizer, log_interval = 200)\n",
    "    valid_loss, valid_accuracy = evaluate(model, test_loader)\n",
    "    print(\"\\n[EPOCH: {}], \\tValidation Loss: {:.4f}, \\tValidation Accuracy: {:.2f} % \\n\".format(\n",
    "        epoch, valid_loss, valid_accuracy))"
   ]
  }
 ],
 "metadata": {
  "kernelspec": {
   "display_name": "Python 3",
   "language": "python",
   "name": "python3"
  },
  "language_info": {
   "codemirror_mode": {
    "name": "ipython",
    "version": 3
   },
   "file_extension": ".py",
   "mimetype": "text/x-python",
   "name": "python",
   "nbconvert_exporter": "python",
   "pygments_lexer": "ipython3",
   "version": "3.6.9"
  }
 },
 "nbformat": 4,
 "nbformat_minor": 4
}
