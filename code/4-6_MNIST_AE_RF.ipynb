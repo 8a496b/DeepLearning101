{
 "cells": [
  {
   "cell_type": "code",
   "execution_count": 1,
   "metadata": {},
   "outputs": [],
   "source": [
    "''' 1. 모듈 임포트 '''\n",
    "import numpy as np\n",
    "import matplotlib.pyplot as plt\n",
    "\n",
    "import torch\n",
    "from torch import nn, optim\n",
    "from torchvision import transforms, datasets"
   ]
  },
  {
   "cell_type": "code",
   "execution_count": 2,
   "metadata": {},
   "outputs": [
    {
     "name": "stdout",
     "output_type": "stream",
     "text": [
      "Using PyTorch version: 1.5.0+cu101  Device: cuda\n"
     ]
    }
   ],
   "source": [
    "''' 2. 딥러닝 모델을 설계할 때 활용하는 장비 확인 '''\n",
    "if torch.cuda.is_available():\n",
    "    DEVICE = torch.device('cuda')\n",
    "else:\n",
    "    DEVICE = torch.device('cpu')\n",
    "\n",
    "print('Using PyTorch version:', torch.__version__, ' Device:', DEVICE)"
   ]
  },
  {
   "cell_type": "code",
   "execution_count": 3,
   "metadata": {},
   "outputs": [],
   "source": [
    "BATCH_SIZE = 32\n",
    "EPOCHS = 10"
   ]
  },
  {
   "cell_type": "code",
   "execution_count": 4,
   "metadata": {},
   "outputs": [],
   "source": [
    "''' 3. FashionMNIST 데이터 다운로드 '''\n",
    "trainset = datasets.FashionMNIST(\n",
    "    root      = '../data/FashionMNIST', \n",
    "    train     = True,\n",
    "    download  = True,\n",
    "    transform = transforms.ToTensor())\n",
    "\n",
    "train_loader = torch.utils.data.DataLoader(\n",
    "    dataset     = trainset,\n",
    "    batch_size  = BATCH_SIZE,\n",
    "    shuffle     = True)"
   ]
  },
  {
   "cell_type": "code",
   "execution_count": 5,
   "metadata": {},
   "outputs": [
    {
     "name": "stdout",
     "output_type": "stream",
     "text": [
      "X_train: torch.Size([32, 1, 28, 28]) type: torch.FloatTensor\n",
      "y_train: torch.Size([32]) type: torch.LongTensor\n"
     ]
    }
   ],
   "source": [
    "''' 4. 데이터 확인하기 (1) '''\n",
    "for (X_train, y_train) in train_loader:\n",
    "    print('X_train:', X_train.size(), 'type:', X_train.type())\n",
    "    print('y_train:', y_train.size(), 'type:', y_train.type())\n",
    "    break "
   ]
  },
  {
   "cell_type": "code",
   "execution_count": 6,
   "metadata": {},
   "outputs": [
    {
     "data": {
      "image/png": "[encoded data removed]",
      "text/plain": [
       "<Figure size 720x72 with 10 Axes>"
      ]
     },
     "metadata": {
      "needs_background": "light"
     },
     "output_type": "display_data"
    }
   ],
   "source": [
    "''' 4. 데이터 확인하기 (2) '''\n",
    "pltsize = 1\n",
    "plt.figure(figsize=(10 * pltsize, pltsize))\n",
    "\n",
    "for i in range(10):\n",
    "    plt.subplot(1, 10, i + 1)\n",
    "    plt.axis('off')\n",
    "    plt.imshow(X_train[i, :, :, :].numpy().reshape(28, 28), cmap = \"gray_r\")\n",
    "    plt.title('Class: ' + str(y_train[i].item()))"
   ]
  },
  {
   "cell_type": "code",
   "execution_count": 7,
   "metadata": {},
   "outputs": [],
   "source": [
    "class AE(nn.Module):\n",
    "    def __init__(self):\n",
    "        super(AE, self).__init__()\n",
    "\n",
    "        self.encoder = nn.Sequential(\n",
    "            nn.Linear(28*28, 512),\n",
    "            nn.ReLU(),\n",
    "            nn.Linear(512, 256),\n",
    "            nn.ReLU(),\n",
    "            nn.Linear(256, 128),\n",
    "            nn.ReLU(),\n",
    "            nn.Linear(128, 64),\n",
    "            nn.ReLU(),\n",
    "            nn.Linear(64, 16),)\n",
    "\n",
    "        self.decoder = nn.Sequential(\n",
    "            nn.Linear(16, 64),\n",
    "            nn.ReLU(),\n",
    "            nn.Linear(64, 128),\n",
    "            nn.ReLU(),\n",
    "            nn.Linear(128, 256),\n",
    "            nn.ReLU(),\n",
    "            nn.Linear(256, 512),\n",
    "            nn.ReLU(),\n",
    "            nn.Linear(512, 28 * 28),\n",
    "            nn.Sigmoid())\n",
    "\n",
    "    def forward(self, x):\n",
    "        encoded = self.encoder(x)\n",
    "        decoded = self.decoder(encoded)\n",
    "        return encoded, decoded"
   ]
  },
  {
   "cell_type": "code",
   "execution_count": 8,
   "metadata": {},
   "outputs": [
    {
     "name": "stdout",
     "output_type": "stream",
     "text": [
      "Model:  AE(\n",
      "  (encoder): Sequential(\n",
      "    (0): Linear(in_features=784, out_features=512, bias=True)\n",
      "    (1): ReLU()\n",
      "    (2): Linear(in_features=512, out_features=256, bias=True)\n",
      "    (3): ReLU()\n",
      "    (4): Linear(in_features=256, out_features=128, bias=True)\n",
      "    (5): ReLU()\n",
      "    (6): Linear(in_features=128, out_features=64, bias=True)\n",
      "    (7): ReLU()\n",
      "    (8): Linear(in_features=64, out_features=16, bias=True)\n",
      "  )\n",
      "  (decoder): Sequential(\n",
      "    (0): Linear(in_features=16, out_features=64, bias=True)\n",
      "    (1): ReLU()\n",
      "    (2): Linear(in_features=64, out_features=128, bias=True)\n",
      "    (3): ReLU()\n",
      "    (4): Linear(in_features=128, out_features=256, bias=True)\n",
      "    (5): ReLU()\n",
      "    (6): Linear(in_features=256, out_features=512, bias=True)\n",
      "    (7): ReLU()\n",
      "    (8): Linear(in_features=512, out_features=784, bias=True)\n",
      "    (9): Sigmoid()\n",
      "  )\n",
      ")\n",
      "Device:  cuda\n"
     ]
    }
   ],
   "source": [
    "USE_CUDA = torch.cuda.is_available()\n",
    "DEVICE = torch.device(\"cuda\" if USE_CUDA else \"cpu\")\n",
    "\n",
    "model = AE().to(DEVICE)\n",
    "optimizer = optim.Adam(model.parameters(), lr = 0.005)\n",
    "criterion = nn.MSELoss()\n",
    "\n",
    "print(\"Model: \", model)\n",
    "print(\"Device: \", DEVICE)"
   ]
  },
  {
   "cell_type": "code",
   "execution_count": 9,
   "metadata": {},
   "outputs": [],
   "source": [
    "def train(model, train_loader, optimizer, log_interval):\n",
    "    model.train()\n",
    "    for batch_idx, (image, label) in enumerate(train_loader):\n",
    "        image = image.view(-1, 28 * 28).to(DEVICE)\n",
    "        target = image.view(-1, 28 * 28).to(DEVICE)\n",
    "\n",
    "        optimizer.zero_grad()\n",
    "        encoded, decoded = model(image)\n",
    "        loss = criterion(decoded, target)\n",
    "        loss.backward()\n",
    "        optimizer.step()\n",
    "\n",
    "        if batch_idx % log_interval == 0:\n",
    "            print(\"Train Epoch: {} [{}/{} ({:.0f}%)]\\tTrain Loss: {:.6f}\".format(\n",
    "                epoch, batch_idx * len(image), \n",
    "                len(train_loader.dataset), 100. * batch_idx / len(train_loader), \n",
    "                loss.item()))"
   ]
  },
  {
   "cell_type": "code",
   "execution_count": 10,
   "metadata": {},
   "outputs": [],
   "source": [
    "def get_lv(model, train_loader):\n",
    "    lv_lst = []\n",
    "    model.eval()\n",
    "    with torch.no_grad():\n",
    "        for image, _ in train_loader:\n",
    "            image = image.view(-1, 28 * 28).to(DEVICE)\n",
    "            encoded, _ = model(image)\n",
    "            lv_lst.append(encoded.to(\"cpu\").numpy())\n",
    "    lv = np.reshape(np.array(lv_lst), (-1, 16))\n",
    "    return lv"
   ]
  },
  {
   "cell_type": "code",
   "execution_count": 11,
   "metadata": {},
   "outputs": [
    {
     "name": "stdout",
     "output_type": "stream",
     "text": [
      "Train Epoch: 1 [0/60000 (0%)]\tTrain Loss: 0.169212\n",
      "Train Epoch: 1 [6400/60000 (11%)]\tTrain Loss: 0.047041\n",
      "Train Epoch: 1 [12800/60000 (21%)]\tTrain Loss: 0.047991\n",
      "Train Epoch: 1 [19200/60000 (32%)]\tTrain Loss: 0.028955\n",
      "Train Epoch: 1 [25600/60000 (43%)]\tTrain Loss: 0.030819\n",
      "Train Epoch: 1 [32000/60000 (53%)]\tTrain Loss: 0.028332\n",
      "Train Epoch: 1 [38400/60000 (64%)]\tTrain Loss: 0.026910\n",
      "Train Epoch: 1 [44800/60000 (75%)]\tTrain Loss: 0.029047\n",
      "Train Epoch: 1 [51200/60000 (85%)]\tTrain Loss: 0.026126\n",
      "Train Epoch: 1 [57600/60000 (96%)]\tTrain Loss: 0.028116\n",
      "\n",
      "\n",
      "Train Epoch: 2 [0/60000 (0%)]\tTrain Loss: 0.024705\n",
      "Train Epoch: 2 [6400/60000 (11%)]\tTrain Loss: 0.025493\n",
      "Train Epoch: 2 [12800/60000 (21%)]\tTrain Loss: 0.024471\n",
      "Train Epoch: 2 [19200/60000 (32%)]\tTrain Loss: 0.025416\n",
      "Train Epoch: 2 [25600/60000 (43%)]\tTrain Loss: 0.024310\n",
      "Train Epoch: 2 [32000/60000 (53%)]\tTrain Loss: 0.023185\n",
      "Train Epoch: 2 [38400/60000 (64%)]\tTrain Loss: 0.024337\n",
      "Train Epoch: 2 [44800/60000 (75%)]\tTrain Loss: 0.021463\n",
      "Train Epoch: 2 [51200/60000 (85%)]\tTrain Loss: 0.021319\n",
      "Train Epoch: 2 [57600/60000 (96%)]\tTrain Loss: 0.029261\n",
      "\n",
      "\n",
      "Train Epoch: 3 [0/60000 (0%)]\tTrain Loss: 0.026629\n",
      "Train Epoch: 3 [6400/60000 (11%)]\tTrain Loss: 0.024738\n",
      "Train Epoch: 3 [12800/60000 (21%)]\tTrain Loss: 0.025329\n",
      "Train Epoch: 3 [19200/60000 (32%)]\tTrain Loss: 0.019695\n",
      "Train Epoch: 3 [25600/60000 (43%)]\tTrain Loss: 0.027293\n",
      "Train Epoch: 3 [32000/60000 (53%)]\tTrain Loss: 0.026828\n",
      "Train Epoch: 3 [38400/60000 (64%)]\tTrain Loss: 0.024109\n",
      "Train Epoch: 3 [44800/60000 (75%)]\tTrain Loss: 0.023001\n",
      "Train Epoch: 3 [51200/60000 (85%)]\tTrain Loss: 0.021048\n",
      "Train Epoch: 3 [57600/60000 (96%)]\tTrain Loss: 0.026341\n",
      "\n",
      "\n",
      "Train Epoch: 4 [0/60000 (0%)]\tTrain Loss: 0.024911\n",
      "Train Epoch: 4 [6400/60000 (11%)]\tTrain Loss: 0.021418\n",
      "Train Epoch: 4 [12800/60000 (21%)]\tTrain Loss: 0.022038\n",
      "Train Epoch: 4 [19200/60000 (32%)]\tTrain Loss: 0.021417\n",
      "Train Epoch: 4 [25600/60000 (43%)]\tTrain Loss: 0.023357\n",
      "Train Epoch: 4 [32000/60000 (53%)]\tTrain Loss: 0.023830\n",
      "Train Epoch: 4 [38400/60000 (64%)]\tTrain Loss: 0.020538\n",
      "Train Epoch: 4 [44800/60000 (75%)]\tTrain Loss: 0.024834\n",
      "Train Epoch: 4 [51200/60000 (85%)]\tTrain Loss: 0.024565\n",
      "Train Epoch: 4 [57600/60000 (96%)]\tTrain Loss: 0.021717\n",
      "\n",
      "\n",
      "Train Epoch: 5 [0/60000 (0%)]\tTrain Loss: 0.025015\n",
      "Train Epoch: 5 [6400/60000 (11%)]\tTrain Loss: 0.022079\n",
      "Train Epoch: 5 [12800/60000 (21%)]\tTrain Loss: 0.019557\n",
      "Train Epoch: 5 [19200/60000 (32%)]\tTrain Loss: 0.025373\n",
      "Train Epoch: 5 [25600/60000 (43%)]\tTrain Loss: 0.019425\n",
      "Train Epoch: 5 [32000/60000 (53%)]\tTrain Loss: 0.020078\n",
      "Train Epoch: 5 [38400/60000 (64%)]\tTrain Loss: 0.017921\n",
      "Train Epoch: 5 [44800/60000 (75%)]\tTrain Loss: 0.026604\n",
      "Train Epoch: 5 [51200/60000 (85%)]\tTrain Loss: 0.019542\n",
      "Train Epoch: 5 [57600/60000 (96%)]\tTrain Loss: 0.020750\n",
      "\n",
      "\n",
      "Train Epoch: 6 [0/60000 (0%)]\tTrain Loss: 0.025690\n",
      "Train Epoch: 6 [6400/60000 (11%)]\tTrain Loss: 0.021881\n",
      "Train Epoch: 6 [12800/60000 (21%)]\tTrain Loss: 0.019426\n",
      "Train Epoch: 6 [19200/60000 (32%)]\tTrain Loss: 0.018814\n",
      "Train Epoch: 6 [25600/60000 (43%)]\tTrain Loss: 0.021822\n",
      "Train Epoch: 6 [32000/60000 (53%)]\tTrain Loss: 0.023814\n",
      "Train Epoch: 6 [38400/60000 (64%)]\tTrain Loss: 0.024753\n",
      "Train Epoch: 6 [44800/60000 (75%)]\tTrain Loss: 0.022133\n",
      "Train Epoch: 6 [51200/60000 (85%)]\tTrain Loss: 0.017000\n",
      "Train Epoch: 6 [57600/60000 (96%)]\tTrain Loss: 0.022227\n",
      "\n",
      "\n",
      "Train Epoch: 7 [0/60000 (0%)]\tTrain Loss: 0.021536\n",
      "Train Epoch: 7 [6400/60000 (11%)]\tTrain Loss: 0.025693\n",
      "Train Epoch: 7 [12800/60000 (21%)]\tTrain Loss: 0.022112\n",
      "Train Epoch: 7 [19200/60000 (32%)]\tTrain Loss: 0.022732\n",
      "Train Epoch: 7 [25600/60000 (43%)]\tTrain Loss: 0.020294\n",
      "Train Epoch: 7 [32000/60000 (53%)]\tTrain Loss: 0.021897\n",
      "Train Epoch: 7 [38400/60000 (64%)]\tTrain Loss: 0.019719\n",
      "Train Epoch: 7 [44800/60000 (75%)]\tTrain Loss: 0.018582\n",
      "Train Epoch: 7 [51200/60000 (85%)]\tTrain Loss: 0.020387\n",
      "Train Epoch: 7 [57600/60000 (96%)]\tTrain Loss: 0.023477\n",
      "\n",
      "\n",
      "Train Epoch: 8 [0/60000 (0%)]\tTrain Loss: 0.018647\n",
      "Train Epoch: 8 [6400/60000 (11%)]\tTrain Loss: 0.021787\n",
      "Train Epoch: 8 [12800/60000 (21%)]\tTrain Loss: 0.021610\n",
      "Train Epoch: 8 [19200/60000 (32%)]\tTrain Loss: 0.022047\n",
      "Train Epoch: 8 [25600/60000 (43%)]\tTrain Loss: 0.022382\n",
      "Train Epoch: 8 [32000/60000 (53%)]\tTrain Loss: 0.021234\n",
      "Train Epoch: 8 [38400/60000 (64%)]\tTrain Loss: 0.020569\n",
      "Train Epoch: 8 [44800/60000 (75%)]\tTrain Loss: 0.024242\n",
      "Train Epoch: 8 [51200/60000 (85%)]\tTrain Loss: 0.020525\n",
      "Train Epoch: 8 [57600/60000 (96%)]\tTrain Loss: 0.020999\n",
      "\n",
      "\n",
      "Train Epoch: 9 [0/60000 (0%)]\tTrain Loss: 0.016404\n",
      "Train Epoch: 9 [6400/60000 (11%)]\tTrain Loss: 0.019360\n",
      "Train Epoch: 9 [12800/60000 (21%)]\tTrain Loss: 0.017672\n",
      "Train Epoch: 9 [19200/60000 (32%)]\tTrain Loss: 0.020614\n",
      "Train Epoch: 9 [25600/60000 (43%)]\tTrain Loss: 0.016609\n",
      "Train Epoch: 9 [32000/60000 (53%)]\tTrain Loss: 0.023275\n",
      "Train Epoch: 9 [38400/60000 (64%)]\tTrain Loss: 0.018608\n",
      "Train Epoch: 9 [44800/60000 (75%)]\tTrain Loss: 0.022494\n",
      "Train Epoch: 9 [51200/60000 (85%)]\tTrain Loss: 0.017331\n",
      "Train Epoch: 9 [57600/60000 (96%)]\tTrain Loss: 0.020827\n",
      "\n",
      "\n",
      "Train Epoch: 10 [0/60000 (0%)]\tTrain Loss: 0.019145\n",
      "Train Epoch: 10 [6400/60000 (11%)]\tTrain Loss: 0.021030\n",
      "Train Epoch: 10 [12800/60000 (21%)]\tTrain Loss: 0.022567\n",
      "Train Epoch: 10 [19200/60000 (32%)]\tTrain Loss: 0.016132\n",
      "Train Epoch: 10 [25600/60000 (43%)]\tTrain Loss: 0.022192\n",
      "Train Epoch: 10 [32000/60000 (53%)]\tTrain Loss: 0.021044\n",
      "Train Epoch: 10 [38400/60000 (64%)]\tTrain Loss: 0.020496\n",
      "Train Epoch: 10 [44800/60000 (75%)]\tTrain Loss: 0.019331\n",
      "Train Epoch: 10 [51200/60000 (85%)]\tTrain Loss: 0.022603\n",
      "Train Epoch: 10 [57600/60000 (96%)]\tTrain Loss: 0.017612\n",
      "\n",
      "\n"
     ]
    }
   ],
   "source": [
    "''' Training'''\n",
    "EPOCHS = 10\n",
    "for epoch in range(1, EPOCHS + 1):\n",
    "    train(model, train_loader, optimizer, log_interval = 200)\n",
    "    print(\"\\n\")"
   ]
  },
  {
   "cell_type": "code",
   "execution_count": 12,
   "metadata": {},
   "outputs": [],
   "source": [
    "lv = get_lv(model, train_loader)"
   ]
  },
  {
   "cell_type": "code",
   "execution_count": 13,
   "metadata": {},
   "outputs": [
    {
     "name": "stderr",
     "output_type": "stream",
     "text": [
      "/home/justin/101/lib/python3.6/site-packages/torchvision/datasets/mnist.py:55: UserWarning: train_data has been renamed data\n",
      "  warnings.warn(\"train_data has been renamed data\")\n",
      "/home/justin/101/lib/python3.6/site-packages/torchvision/datasets/mnist.py:45: UserWarning: train_labels has been renamed targets\n",
      "  warnings.warn(\"train_labels has been renamed targets\")\n",
      "/home/justin/101/lib/python3.6/site-packages/torchvision/datasets/mnist.py:55: UserWarning: train_data has been renamed data\n",
      "  warnings.warn(\"train_data has been renamed data\")\n"
     ]
    },
    {
     "name": "stdout",
     "output_type": "stream",
     "text": [
      "Trainset Accuracy: 87.92 %\n"
     ]
    },
    {
     "name": "stderr",
     "output_type": "stream",
     "text": [
      "/home/justin/101/lib/python3.6/site-packages/torchvision/datasets/mnist.py:45: UserWarning: train_labels has been renamed targets\n",
      "  warnings.warn(\"train_labels has been renamed targets\")\n"
     ]
    }
   ],
   "source": [
    "from sklearn.ensemble import RandomForestClassifier\n",
    "from sklearn.metrics import accuracy_score\n",
    "\n",
    "rf_model = RandomForestClassifier(n_estimators = 20,\n",
    "                                  max_depth = 10,\n",
    "                                  random_state = 42)\n",
    "rf_model_trained = rf_model.fit(trainset.train_data.view(-1, 28 * 28).numpy(), trainset.train_labels.numpy())\n",
    "rf_model_predicted_train = rf_model.predict(trainset.train_data.view(-1, 28 * 28).numpy())\n",
    "print(\"Trainset Accuracy: %.2f\" % (accuracy_score(list(trainset.train_labels.numpy()), rf_model_predicted_train) * 100), \"%\") "
   ]
  },
  {
   "cell_type": "code",
   "execution_count": 14,
   "metadata": {},
   "outputs": [
    {
     "name": "stdout",
     "output_type": "stream",
     "text": [
      "Trainset Accuracy: 22.48 %\n"
     ]
    },
    {
     "name": "stderr",
     "output_type": "stream",
     "text": [
      "/home/justin/101/lib/python3.6/site-packages/torchvision/datasets/mnist.py:45: UserWarning: train_labels has been renamed targets\n",
      "  warnings.warn(\"train_labels has been renamed targets\")\n"
     ]
    }
   ],
   "source": [
    "rf_model = RandomForestClassifier(n_estimators = 20,\n",
    "                                  max_depth = 10,\n",
    "                                  random_state = 42)\n",
    "rf_model_trained = rf_model.fit(lv, trainset.train_labels.numpy())\n",
    "rf_model_predicted_train = rf_model.predict(lv)\n",
    "print(\"Trainset Accuracy: %.2f\" % (accuracy_score(list(trainset.train_labels.numpy()), rf_model_predicted_train) * 100), \"%\") "
   ]
  },
  {
   "cell_type": "code",
   "execution_count": 16,
   "metadata": {},
   "outputs": [
    {
     "data": {
      "text/plain": [
       "(60000, 16)"
      ]
     },
     "execution_count": 16,
     "metadata": {},
     "output_type": "execute_result"
    }
   ],
   "source": [
    "lv.shape"
   ]
  },
  {
   "cell_type": "code",
   "execution_count": 19,
   "metadata": {},
   "outputs": [
    {
     "name": "stderr",
     "output_type": "stream",
     "text": [
      "/home/justin/101/lib/python3.6/site-packages/torchvision/datasets/mnist.py:55: UserWarning: train_data has been renamed data\n",
      "  warnings.warn(\"train_data has been renamed data\")\n"
     ]
    },
    {
     "data": {
      "text/plain": [
       "(60000, 28, 28)"
      ]
     },
     "execution_count": 19,
     "metadata": {},
     "output_type": "execute_result"
    }
   ],
   "source": [
    "trainset.train_data.numpy().shape"
   ]
  },
  {
   "cell_type": "code",
   "execution_count": null,
   "metadata": {},
   "outputs": [],
   "source": []
  }
 ],
 "metadata": {
  "kernelspec": {
   "display_name": "Python 3",
   "language": "python",
   "name": "python3"
  },
  "language_info": {
   "codemirror_mode": {
    "name": "ipython",
    "version": 3
   },
   "file_extension": ".py",
   "mimetype": "text/x-python",
   "name": "python",
   "nbconvert_exporter": "python",
   "pygments_lexer": "ipython3",
   "version": "3.6.9"
  }
 },
 "nbformat": 4,
 "nbformat_minor": 4
}
