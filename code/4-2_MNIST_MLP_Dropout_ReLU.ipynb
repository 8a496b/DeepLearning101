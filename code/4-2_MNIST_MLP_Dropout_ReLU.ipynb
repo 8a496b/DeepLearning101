{
 "cells": [
  {
   "cell_type": "code",
   "execution_count": 1,
   "metadata": {},
   "outputs": [],
   "source": [
    "''' 1. 모듈 임포트 '''\n",
    "import numpy as np                                     # (1)\n",
    "import matplotlib.pyplot as plt                        # (2)\n",
    "import torch                                           # (3)\n",
    "import torch.nn as nn                                  # (4)\n",
    "import torch.nn.functional as F                        # (5)\n",
    "from torchvision import transforms, datasets           # (6)"
   ]
  },
  {
   "cell_type": "code",
   "execution_count": 2,
   "metadata": {},
   "outputs": [
    {
     "name": "stdout",
     "output_type": "stream",
     "text": [
      "Using PyTorch version: 1.5.0+cu101  Device: cuda\n"
     ]
    }
   ],
   "source": [
    "''' 2. 딥러닝 모델을 설계할 때 활용하는 장비 확인 '''\n",
    "if torch.cuda.is_available():\n",
    "    DEVICE = torch.device('cuda')\n",
    "else:\n",
    "    DEVICE = torch.device('cpu')\n",
    "\n",
    "print('Using PyTorch version:', torch.__version__, ' Device:', DEVICE)"
   ]
  },
  {
   "cell_type": "code",
   "execution_count": 3,
   "metadata": {},
   "outputs": [],
   "source": [
    "BATCH_SIZE = 32    # (1)\n",
    "EPOCHS = 10        # (2)"
   ]
  },
  {
   "cell_type": "code",
   "execution_count": 4,
   "metadata": {},
   "outputs": [],
   "source": [
    "''' 3. MNIST 데이터 다운로드 (Train set, Test set 분리하기) '''\n",
    "train_dataset = datasets.MNIST(root = \"../data/MNIST\",                    # (1)\n",
    "                               train = True,\n",
    "                               download = True,\n",
    "                               transform = transforms.ToTensor())\n",
    "\n",
    "test_dataset = datasets.MNIST(root = '../data/MNIST',                     # (2)\n",
    "                              train = False,\n",
    "                              transform = transforms.ToTensor())\n",
    "\n",
    "train_loader = torch.utils.data.DataLoader(dataset = train_dataset,    # (3) \n",
    "                                           batch_size = BATCH_SIZE,\n",
    "                                           shuffle = True)\n",
    "\n",
    "test_loader = torch.utils.data.DataLoader(dataset = test_dataset,      # (4)  \n",
    "                                          batch_size = BATCH_SIZE, \n",
    "                                          shuffle = False)"
   ]
  },
  {
   "cell_type": "code",
   "execution_count": 5,
   "metadata": {},
   "outputs": [
    {
     "name": "stdout",
     "output_type": "stream",
     "text": [
      "X_train: torch.Size([32, 1, 28, 28]) type: torch.FloatTensor\n",
      "y_train: torch.Size([32]) type: torch.LongTensor\n"
     ]
    }
   ],
   "source": [
    "''' 4. 데이터 확인하기 (1) '''\n",
    "for (X_train, y_train) in train_loader:\n",
    "    print('X_train:', X_train.size(), 'type:', X_train.type())\n",
    "    print('y_train:', y_train.size(), 'type:', y_train.type())\n",
    "    break "
   ]
  },
  {
   "cell_type": "code",
   "execution_count": 6,
   "metadata": {},
   "outputs": [
    {
     "data": {
      "image/png": "[encoded data removed]",
      "text/plain": [
       "<Figure size 720x72 with 10 Axes>"
      ]
     },
     "metadata": {
      "needs_background": "light"
     },
     "output_type": "display_data"
    }
   ],
   "source": [
    "''' 4. 데이터 확인하기 (2) '''\n",
    "pltsize = 1\n",
    "plt.figure(figsize=(10 * pltsize, pltsize))\n",
    "for i in range(10):\n",
    "    plt.subplot(1, 10, i + 1)\n",
    "    plt.axis('off')\n",
    "    plt.imshow(X_train[i, :, :, :].numpy().reshape(28, 28), cmap = \"gray_r\")\n",
    "    plt.title('Class: ' + str(y_train[i].item()))"
   ]
  },
  {
   "cell_type": "code",
   "execution_count": 7,
   "metadata": {},
   "outputs": [],
   "source": [
    "''' 5. MLP (Multi Layer Perceptron) 모델 설계하기 '''\n",
    "class Net(nn.Module):                         # (1)\n",
    "    def __init__(self):                       # (2)\n",
    "        super(Net, self).__init__()           # (3)\n",
    "        self.fc1 = nn.Linear(28 * 28, 512)    # (4)\n",
    "        self.fc2 = nn.Linear(512, 256)        # (5)\n",
    "        self.fc3 = nn.Linear(256, 10)      # (6)\n",
    "        self.dropout_prob = 0.5\n",
    "    \n",
    "    def forward(self, x):                     # (7)\n",
    "        x = x.view(-1, 28 * 28)               # (8)\n",
    "        x = self.fc1(x)                       # (9)\n",
    "        x = F.relu(x)                         # (10)\n",
    "        x = F.dropout(x, training = self.training, p = self.dropout_prob)\n",
    "        x = self.fc2(x)                       # (11)\n",
    "        x = F.relu(x)                      # (12)\n",
    "        x = F.dropout(x, training = self.training, p = self.dropout_prob)\n",
    "        x = self.fc3(x)                       # (13)\n",
    "        x = F.log_softmax(x, dim = 1)         # (14)\n",
    "        return x                              # (15)"
   ]
  },
  {
   "cell_type": "code",
   "execution_count": 8,
   "metadata": {},
   "outputs": [
    {
     "name": "stdout",
     "output_type": "stream",
     "text": [
      "Net(\n",
      "  (fc1): Linear(in_features=784, out_features=512, bias=True)\n",
      "  (fc2): Linear(in_features=512, out_features=256, bias=True)\n",
      "  (fc3): Linear(in_features=256, out_features=10, bias=True)\n",
      ")\n"
     ]
    }
   ],
   "source": [
    "''' 6. Optimizer, Objective Function 설정하기 '''\n",
    "model = Net().to(DEVICE)\n",
    "optimizer = torch.optim.SGD(model.parameters(), lr = 0.01, momentum = 0.5)\n",
    "criterion = nn.CrossEntropyLoss()\n",
    "\n",
    "print(model)"
   ]
  },
  {
   "cell_type": "code",
   "execution_count": 9,
   "metadata": {},
   "outputs": [],
   "source": [
    "''' 7. MLP 학습, Test 성능 확인하는 함수 정의 '''\n",
    "def train(model, train_loader, optimizer, log_interval):\n",
    "    model.train()\n",
    "    for batch_idx, (image, label) in enumerate(train_loader):\n",
    "        image = image.to(DEVICE)\n",
    "        label = label.to(DEVICE)\n",
    "        optimizer.zero_grad()\n",
    "        output = model(image)\n",
    "        loss = criterion(output, label)\n",
    "        loss.backward()\n",
    "        optimizer.step()\n",
    "\n",
    "        if batch_idx % log_interval == 0:\n",
    "            print(\"Train Epoch: {} [{}/{} ({:.0f}%)]\\tTrain Loss: {:.6f}\".format(\n",
    "                epoch, batch_idx * len(image), \n",
    "                len(train_loader.dataset), 100. * batch_idx / len(train_loader), \n",
    "                loss.item()))"
   ]
  },
  {
   "cell_type": "code",
   "execution_count": 10,
   "metadata": {},
   "outputs": [],
   "source": [
    "def evaluate(model, valid_loader):\n",
    "    model.eval()\n",
    "    valid_loss = 0\n",
    "    correct = 0\n",
    "\n",
    "    with torch.no_grad():\n",
    "        for image, label in valid_loader:\n",
    "            image = image.to(DEVICE)\n",
    "            label = label.to(DEVICE)\n",
    "            output = model(image)\n",
    "            valid_loss += criterion(output, label).item()\n",
    "            prediction = output.max(1, keepdim = True)[1]\n",
    "            correct += prediction.eq(label.view_as(prediction)).sum().item()\n",
    "    \n",
    "    valid_loss /= len(valid_loader.dataset)\n",
    "    valid_accuracy = 100. * correct / len(valid_loader.dataset)\n",
    "    return valid_loss, valid_accuracy"
   ]
  },
  {
   "cell_type": "code",
   "execution_count": 11,
   "metadata": {},
   "outputs": [
    {
     "name": "stdout",
     "output_type": "stream",
     "text": [
      "Train Epoch: 1 [0/60000 (0%)]\tTrain Loss: 2.295796\n",
      "Train Epoch: 1 [6400/60000 (11%)]\tTrain Loss: 2.103515\n",
      "Train Epoch: 1 [12800/60000 (21%)]\tTrain Loss: 1.287548\n",
      "Train Epoch: 1 [19200/60000 (32%)]\tTrain Loss: 0.738128\n",
      "Train Epoch: 1 [25600/60000 (43%)]\tTrain Loss: 0.690420\n",
      "Train Epoch: 1 [32000/60000 (53%)]\tTrain Loss: 0.699567\n",
      "Train Epoch: 1 [38400/60000 (64%)]\tTrain Loss: 0.599743\n",
      "Train Epoch: 1 [44800/60000 (75%)]\tTrain Loss: 0.788336\n",
      "Train Epoch: 1 [51200/60000 (85%)]\tTrain Loss: 0.590603\n",
      "Train Epoch: 1 [57600/60000 (96%)]\tTrain Loss: 0.292892\n",
      "\n",
      "[EPOCH: 1], \tValidation Loss: 0.0101, \tValidation Accuracy: 90.85 % \n",
      "\n",
      "Train Epoch: 2 [0/60000 (0%)]\tTrain Loss: 0.429495\n",
      "Train Epoch: 2 [6400/60000 (11%)]\tTrain Loss: 0.352001\n",
      "Train Epoch: 2 [12800/60000 (21%)]\tTrain Loss: 0.419280\n",
      "Train Epoch: 2 [19200/60000 (32%)]\tTrain Loss: 0.514595\n",
      "Train Epoch: 2 [25600/60000 (43%)]\tTrain Loss: 0.330425\n",
      "Train Epoch: 2 [32000/60000 (53%)]\tTrain Loss: 0.407283\n",
      "Train Epoch: 2 [38400/60000 (64%)]\tTrain Loss: 0.154308\n",
      "Train Epoch: 2 [44800/60000 (75%)]\tTrain Loss: 0.253512\n",
      "Train Epoch: 2 [51200/60000 (85%)]\tTrain Loss: 0.496531\n",
      "Train Epoch: 2 [57600/60000 (96%)]\tTrain Loss: 0.424849\n",
      "\n",
      "[EPOCH: 2], \tValidation Loss: 0.0071, \tValidation Accuracy: 93.27 % \n",
      "\n",
      "Train Epoch: 3 [0/60000 (0%)]\tTrain Loss: 0.423179\n",
      "Train Epoch: 3 [6400/60000 (11%)]\tTrain Loss: 0.245548\n",
      "Train Epoch: 3 [12800/60000 (21%)]\tTrain Loss: 0.188867\n",
      "Train Epoch: 3 [19200/60000 (32%)]\tTrain Loss: 0.337925\n",
      "Train Epoch: 3 [25600/60000 (43%)]\tTrain Loss: 0.257287\n",
      "Train Epoch: 3 [32000/60000 (53%)]\tTrain Loss: 0.226111\n",
      "Train Epoch: 3 [38400/60000 (64%)]\tTrain Loss: 0.163624\n",
      "Train Epoch: 3 [44800/60000 (75%)]\tTrain Loss: 0.160008\n",
      "Train Epoch: 3 [51200/60000 (85%)]\tTrain Loss: 0.114396\n",
      "Train Epoch: 3 [57600/60000 (96%)]\tTrain Loss: 0.305267\n",
      "\n",
      "[EPOCH: 3], \tValidation Loss: 0.0055, \tValidation Accuracy: 94.86 % \n",
      "\n",
      "Train Epoch: 4 [0/60000 (0%)]\tTrain Loss: 0.475109\n",
      "Train Epoch: 4 [6400/60000 (11%)]\tTrain Loss: 0.272484\n",
      "Train Epoch: 4 [12800/60000 (21%)]\tTrain Loss: 0.234073\n",
      "Train Epoch: 4 [19200/60000 (32%)]\tTrain Loss: 0.196580\n",
      "Train Epoch: 4 [25600/60000 (43%)]\tTrain Loss: 0.227207\n",
      "Train Epoch: 4 [32000/60000 (53%)]\tTrain Loss: 0.372232\n",
      "Train Epoch: 4 [38400/60000 (64%)]\tTrain Loss: 0.144107\n",
      "Train Epoch: 4 [44800/60000 (75%)]\tTrain Loss: 0.155391\n",
      "Train Epoch: 4 [51200/60000 (85%)]\tTrain Loss: 0.280337\n",
      "Train Epoch: 4 [57600/60000 (96%)]\tTrain Loss: 0.128853\n",
      "\n",
      "[EPOCH: 4], \tValidation Loss: 0.0045, \tValidation Accuracy: 95.60 % \n",
      "\n",
      "Train Epoch: 5 [0/60000 (0%)]\tTrain Loss: 0.273612\n",
      "Train Epoch: 5 [6400/60000 (11%)]\tTrain Loss: 0.281117\n",
      "Train Epoch: 5 [12800/60000 (21%)]\tTrain Loss: 0.209944\n",
      "Train Epoch: 5 [19200/60000 (32%)]\tTrain Loss: 0.097682\n",
      "Train Epoch: 5 [25600/60000 (43%)]\tTrain Loss: 0.077724\n",
      "Train Epoch: 5 [32000/60000 (53%)]\tTrain Loss: 0.137553\n",
      "Train Epoch: 5 [38400/60000 (64%)]\tTrain Loss: 0.255069\n",
      "Train Epoch: 5 [44800/60000 (75%)]\tTrain Loss: 0.379762\n",
      "Train Epoch: 5 [51200/60000 (85%)]\tTrain Loss: 0.206200\n",
      "Train Epoch: 5 [57600/60000 (96%)]\tTrain Loss: 0.265441\n",
      "\n",
      "[EPOCH: 5], \tValidation Loss: 0.0039, \tValidation Accuracy: 96.09 % \n",
      "\n",
      "Train Epoch: 6 [0/60000 (0%)]\tTrain Loss: 0.099273\n",
      "Train Epoch: 6 [6400/60000 (11%)]\tTrain Loss: 0.272183\n",
      "Train Epoch: 6 [12800/60000 (21%)]\tTrain Loss: 0.086145\n",
      "Train Epoch: 6 [19200/60000 (32%)]\tTrain Loss: 0.048956\n",
      "Train Epoch: 6 [25600/60000 (43%)]\tTrain Loss: 0.169263\n",
      "Train Epoch: 6 [32000/60000 (53%)]\tTrain Loss: 0.077735\n",
      "Train Epoch: 6 [38400/60000 (64%)]\tTrain Loss: 0.255471\n",
      "Train Epoch: 6 [44800/60000 (75%)]\tTrain Loss: 0.168579\n",
      "Train Epoch: 6 [51200/60000 (85%)]\tTrain Loss: 0.113356\n",
      "Train Epoch: 6 [57600/60000 (96%)]\tTrain Loss: 0.210204\n",
      "\n",
      "[EPOCH: 6], \tValidation Loss: 0.0036, \tValidation Accuracy: 96.52 % \n",
      "\n",
      "Train Epoch: 7 [0/60000 (0%)]\tTrain Loss: 0.276737\n",
      "Train Epoch: 7 [6400/60000 (11%)]\tTrain Loss: 0.169194\n",
      "Train Epoch: 7 [12800/60000 (21%)]\tTrain Loss: 0.175458\n",
      "Train Epoch: 7 [19200/60000 (32%)]\tTrain Loss: 0.432490\n",
      "Train Epoch: 7 [25600/60000 (43%)]\tTrain Loss: 0.148627\n",
      "Train Epoch: 7 [32000/60000 (53%)]\tTrain Loss: 0.051353\n",
      "Train Epoch: 7 [38400/60000 (64%)]\tTrain Loss: 0.210320\n",
      "Train Epoch: 7 [44800/60000 (75%)]\tTrain Loss: 0.097208\n",
      "Train Epoch: 7 [51200/60000 (85%)]\tTrain Loss: 0.166316\n",
      "Train Epoch: 7 [57600/60000 (96%)]\tTrain Loss: 0.255057\n",
      "\n",
      "[EPOCH: 7], \tValidation Loss: 0.0032, \tValidation Accuracy: 96.90 % \n",
      "\n",
      "Train Epoch: 8 [0/60000 (0%)]\tTrain Loss: 0.111795\n",
      "Train Epoch: 8 [6400/60000 (11%)]\tTrain Loss: 0.201370\n",
      "Train Epoch: 8 [12800/60000 (21%)]\tTrain Loss: 0.025656\n",
      "Train Epoch: 8 [19200/60000 (32%)]\tTrain Loss: 0.130219\n",
      "Train Epoch: 8 [25600/60000 (43%)]\tTrain Loss: 0.058853\n",
      "Train Epoch: 8 [32000/60000 (53%)]\tTrain Loss: 0.108507\n",
      "Train Epoch: 8 [38400/60000 (64%)]\tTrain Loss: 0.097211\n",
      "Train Epoch: 8 [44800/60000 (75%)]\tTrain Loss: 0.144536\n",
      "Train Epoch: 8 [51200/60000 (85%)]\tTrain Loss: 0.149775\n",
      "Train Epoch: 8 [57600/60000 (96%)]\tTrain Loss: 0.150202\n",
      "\n",
      "[EPOCH: 8], \tValidation Loss: 0.0029, \tValidation Accuracy: 97.20 % \n",
      "\n",
      "Train Epoch: 9 [0/60000 (0%)]\tTrain Loss: 0.209380\n",
      "Train Epoch: 9 [6400/60000 (11%)]\tTrain Loss: 0.016042\n",
      "Train Epoch: 9 [12800/60000 (21%)]\tTrain Loss: 0.080393\n",
      "Train Epoch: 9 [19200/60000 (32%)]\tTrain Loss: 0.018740\n",
      "Train Epoch: 9 [25600/60000 (43%)]\tTrain Loss: 0.356240\n",
      "Train Epoch: 9 [32000/60000 (53%)]\tTrain Loss: 0.047627\n",
      "Train Epoch: 9 [38400/60000 (64%)]\tTrain Loss: 0.127544\n",
      "Train Epoch: 9 [44800/60000 (75%)]\tTrain Loss: 0.186137\n",
      "Train Epoch: 9 [51200/60000 (85%)]\tTrain Loss: 0.104514\n",
      "Train Epoch: 9 [57600/60000 (96%)]\tTrain Loss: 0.244731\n",
      "\n",
      "[EPOCH: 9], \tValidation Loss: 0.0028, \tValidation Accuracy: 97.26 % \n",
      "\n",
      "Train Epoch: 10 [0/60000 (0%)]\tTrain Loss: 0.091535\n",
      "Train Epoch: 10 [6400/60000 (11%)]\tTrain Loss: 0.092476\n",
      "Train Epoch: 10 [12800/60000 (21%)]\tTrain Loss: 0.059652\n",
      "Train Epoch: 10 [19200/60000 (32%)]\tTrain Loss: 0.312857\n",
      "Train Epoch: 10 [25600/60000 (43%)]\tTrain Loss: 0.165216\n",
      "Train Epoch: 10 [32000/60000 (53%)]\tTrain Loss: 0.044266\n",
      "Train Epoch: 10 [38400/60000 (64%)]\tTrain Loss: 0.338746\n",
      "Train Epoch: 10 [44800/60000 (75%)]\tTrain Loss: 0.250917\n",
      "Train Epoch: 10 [51200/60000 (85%)]\tTrain Loss: 0.124111\n",
      "Train Epoch: 10 [57600/60000 (96%)]\tTrain Loss: 0.018578\n",
      "\n",
      "[EPOCH: 10], \tValidation Loss: 0.0026, \tValidation Accuracy: 97.44 % \n",
      "\n"
     ]
    }
   ],
   "source": [
    "''' 8. MLP 학습 실행 '''\n",
    "''' 9. EPOCH 별 Test set Loss 및 Test set Accuracy 확인하기 '''\n",
    "for epoch in range(1, EPOCHS + 1):\n",
    "    train(model, train_loader, optimizer, log_interval = 200)\n",
    "    valid_loss, valid_accuracy = evaluate(model, test_loader)\n",
    "    print(\"\\n[EPOCH: {}], \\tValidation Loss: {:.4f}, \\tValidation Accuracy: {:.2f} % \\n\".format(\n",
    "        epoch, valid_loss, valid_accuracy))"
   ]
  },
  {
   "cell_type": "code",
   "execution_count": null,
   "metadata": {},
   "outputs": [],
   "source": []
  },
  {
   "cell_type": "code",
   "execution_count": null,
   "metadata": {},
   "outputs": [],
   "source": []
  }
 ],
 "metadata": {
  "kernelspec": {
   "display_name": "Python 3",
   "language": "python",
   "name": "python3"
  },
  "language_info": {
   "codemirror_mode": {
    "name": "ipython",
    "version": 3
   },
   "file_extension": ".py",
   "mimetype": "text/x-python",
   "name": "python",
   "nbconvert_exporter": "python",
   "pygments_lexer": "ipython3",
   "version": "3.6.9"
  }
 },
 "nbformat": 4,
 "nbformat_minor": 4
}
