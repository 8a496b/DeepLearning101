{
 "cells": [
  {
   "cell_type": "code",
   "execution_count": 1,
   "metadata": {},
   "outputs": [],
   "source": [
    "''' 1. 모듈 임포트 '''\n",
    "import numpy as np                                     # (1)\n",
    "import matplotlib.pyplot as plt                        # (2)\n",
    "import torch                                           # (3)\n",
    "import torch.nn as nn                                  # (4)\n",
    "import torch.nn.functional as F                        # (5)\n",
    "from torchvision import transforms, datasets           # (6)"
   ]
  },
  {
   "cell_type": "code",
   "execution_count": 2,
   "metadata": {},
   "outputs": [
    {
     "name": "stdout",
     "output_type": "stream",
     "text": [
      "Using PyTorch version: 1.5.0+cu101  Device: cuda\n"
     ]
    }
   ],
   "source": [
    "''' 2. 딥러닝 모델을 설계할 때 활용하는 장비 확인 '''\n",
    "if torch.cuda.is_available():\n",
    "    DEVICE = torch.device('cuda')\n",
    "else:\n",
    "    DEVICE = torch.device('cpu')\n",
    "\n",
    "print('Using PyTorch version:', torch.__version__, ' Device:', DEVICE)"
   ]
  },
  {
   "cell_type": "code",
   "execution_count": 3,
   "metadata": {},
   "outputs": [],
   "source": [
    "BATCH_SIZE = 32    # (1)\n",
    "EPOCHS = 10        # (2)"
   ]
  },
  {
   "cell_type": "code",
   "execution_count": 4,
   "metadata": {},
   "outputs": [],
   "source": [
    "''' 3. MNIST 데이터 다운로드 (Train set, Test set 분리하기) '''\n",
    "train_dataset = datasets.MNIST(root = \"../data/MNIST\",                    # (1)\n",
    "                               train = True,\n",
    "                               download = True,\n",
    "                               transform = transforms.ToTensor())\n",
    "\n",
    "test_dataset = datasets.MNIST(root = '../data/MNIST',                     # (2)\n",
    "                              train = False,\n",
    "                              transform = transforms.ToTensor())\n",
    "\n",
    "train_loader = torch.utils.data.DataLoader(dataset = train_dataset,    # (3) \n",
    "                                           batch_size = BATCH_SIZE,\n",
    "                                           shuffle = True)\n",
    "\n",
    "test_loader = torch.utils.data.DataLoader(dataset = test_dataset,      # (4)  \n",
    "                                          batch_size = BATCH_SIZE, \n",
    "                                          shuffle = False)"
   ]
  },
  {
   "cell_type": "code",
   "execution_count": 5,
   "metadata": {},
   "outputs": [
    {
     "name": "stdout",
     "output_type": "stream",
     "text": [
      "X_train: torch.Size([32, 1, 28, 28]) type: torch.FloatTensor\n",
      "y_train: torch.Size([32]) type: torch.LongTensor\n"
     ]
    }
   ],
   "source": [
    "''' 4. 데이터 확인하기 (1) '''\n",
    "for (X_train, y_train) in train_loader:\n",
    "    print('X_train:', X_train.size(), 'type:', X_train.type())\n",
    "    print('y_train:', y_train.size(), 'type:', y_train.type())\n",
    "    break "
   ]
  },
  {
   "cell_type": "code",
   "execution_count": 6,
   "metadata": {},
   "outputs": [
    {
     "data": {
      "image/png": "[encoded data removed]",
      "text/plain": [
       "<Figure size 720x72 with 10 Axes>"
      ]
     },
     "metadata": {
      "needs_background": "light"
     },
     "output_type": "display_data"
    }
   ],
   "source": [
    "''' 4. 데이터 확인하기 (2) '''\n",
    "pltsize = 1\n",
    "plt.figure(figsize=(10 * pltsize, pltsize))\n",
    "for i in range(10):\n",
    "    plt.subplot(1, 10, i + 1)\n",
    "    plt.axis('off')\n",
    "    plt.imshow(X_train[i, :, :, :].numpy().reshape(28, 28), cmap = \"gray_r\")\n",
    "    plt.title('Class: ' + str(y_train[i].item()))"
   ]
  },
  {
   "cell_type": "code",
   "execution_count": 7,
   "metadata": {},
   "outputs": [],
   "source": [
    "''' 5. MLP (Multi Layer Perceptron) 모델 설계하기 '''\n",
    "class Net(nn.Module):                         # (1)\n",
    "    def __init__(self):                       # (2)\n",
    "        super(Net, self).__init__()           # (3)\n",
    "        self.fc1 = nn.Linear(28 * 28, 512)    # (4)\n",
    "        self.fc2 = nn.Linear(512, 256)        # (5)\n",
    "        self.fc3 = nn.Linear(256, 10)      # (6)\n",
    "        self.dropout_prob = 0.5\n",
    "        self.batch_norm1 = nn.BatchNorm1d(512)\n",
    "        self.batch_norm2 = nn.BatchNorm1d(256)\n",
    "    \n",
    "    def forward(self, x):                     # (7)\n",
    "        x = x.view(-1, 28 * 28)               # (8)\n",
    "        x = self.fc1(x)                       # (9)\n",
    "        x = self.batch_norm1(x)\n",
    "        x = F.relu(x)                         # (10)\n",
    "        x = F.dropout(x, training = self.training, p = self.dropout_prob)\n",
    "        x = self.fc2(x)                       # (11)\n",
    "        x = self.batch_norm2(x)\n",
    "        x = F.relu(x)                      # (12)\n",
    "        x = F.dropout(x, training = self.training, p = self.dropout_prob)\n",
    "        x = self.fc3(x)                       # (13)\n",
    "        x = F.log_softmax(x, dim = 1)         # (14)\n",
    "        return x                              # (15)"
   ]
  },
  {
   "cell_type": "code",
   "execution_count": 8,
   "metadata": {},
   "outputs": [
    {
     "name": "stdout",
     "output_type": "stream",
     "text": [
      "Net(\n",
      "  (fc1): Linear(in_features=784, out_features=512, bias=True)\n",
      "  (fc2): Linear(in_features=512, out_features=256, bias=True)\n",
      "  (fc3): Linear(in_features=256, out_features=10, bias=True)\n",
      "  (batch_norm1): BatchNorm1d(512, eps=1e-05, momentum=0.1, affine=True, track_running_stats=True)\n",
      "  (batch_norm2): BatchNorm1d(256, eps=1e-05, momentum=0.1, affine=True, track_running_stats=True)\n",
      ")\n"
     ]
    }
   ],
   "source": [
    "''' 6. Optimizer, Objective Function 설정하기 '''\n",
    "\n",
    "import torch.nn.init as init\n",
    "def weight_init(m):\n",
    "    if isinstance(m, nn.Linear):\n",
    "        init.kaiming_uniform_(m.weight.data)\n",
    "\n",
    "model = Net().to(DEVICE)\n",
    "model.apply(weight_init)\n",
    "optimizer = torch.optim.Adam(model.parameters(), lr=0.01)\n",
    "criterion = nn.CrossEntropyLoss()\n",
    "\n",
    "print(model)"
   ]
  },
  {
   "cell_type": "code",
   "execution_count": 9,
   "metadata": {},
   "outputs": [],
   "source": [
    "''' 7. MLP 학습, Test 성능 확인하는 함수 정의 '''\n",
    "def train(model, train_loader, optimizer, log_interval):\n",
    "    model.train()\n",
    "    for batch_idx, (image, label) in enumerate(train_loader):\n",
    "        image = image.to(DEVICE)\n",
    "        label = label.to(DEVICE)\n",
    "        optimizer.zero_grad()\n",
    "        output = model(image)\n",
    "        loss = criterion(output, label)\n",
    "        loss.backward()\n",
    "        optimizer.step()\n",
    "\n",
    "        if batch_idx % log_interval == 0:\n",
    "            print(\"Train Epoch: {} [{}/{} ({:.0f}%)]\\tTrain Loss: {:.6f}\".format(\n",
    "                epoch, batch_idx * len(image), \n",
    "                len(train_loader.dataset), 100. * batch_idx / len(train_loader), \n",
    "                loss.item()))"
   ]
  },
  {
   "cell_type": "code",
   "execution_count": 10,
   "metadata": {},
   "outputs": [],
   "source": [
    "def evaluate(model, valid_loader):\n",
    "    model.eval()\n",
    "    valid_loss = 0\n",
    "    correct = 0\n",
    "\n",
    "    with torch.no_grad():\n",
    "        for image, label in valid_loader:\n",
    "            image = image.to(DEVICE)\n",
    "            label = label.to(DEVICE)\n",
    "            output = model(image)\n",
    "            valid_loss += criterion(output, label).item()\n",
    "            prediction = output.max(1, keepdim = True)[1]\n",
    "            correct += prediction.eq(label.view_as(prediction)).sum().item()\n",
    "    \n",
    "    valid_loss /= len(valid_loader.dataset)\n",
    "    valid_accuracy = 100. * correct / len(valid_loader.dataset)\n",
    "    return valid_loss, valid_accuracy"
   ]
  },
  {
   "cell_type": "code",
   "execution_count": 11,
   "metadata": {},
   "outputs": [
    {
     "name": "stdout",
     "output_type": "stream",
     "text": [
      "Train Epoch: 1 [0/60000 (0%)]\tTrain Loss: 3.488062\n",
      "Train Epoch: 1 [6400/60000 (11%)]\tTrain Loss: 0.392626\n",
      "Train Epoch: 1 [12800/60000 (21%)]\tTrain Loss: 0.584260\n",
      "Train Epoch: 1 [19200/60000 (32%)]\tTrain Loss: 0.220643\n",
      "Train Epoch: 1 [25600/60000 (43%)]\tTrain Loss: 0.308625\n",
      "Train Epoch: 1 [32000/60000 (53%)]\tTrain Loss: 0.232354\n",
      "Train Epoch: 1 [38400/60000 (64%)]\tTrain Loss: 0.038650\n",
      "Train Epoch: 1 [44800/60000 (75%)]\tTrain Loss: 0.170047\n",
      "Train Epoch: 1 [51200/60000 (85%)]\tTrain Loss: 0.515097\n",
      "Train Epoch: 1 [57600/60000 (96%)]\tTrain Loss: 0.212222\n",
      "\n",
      "[EPOCH: 1], \tValidation Loss: 0.0038, \tValidation Accuracy: 96.06 % \n",
      "\n",
      "Train Epoch: 2 [0/60000 (0%)]\tTrain Loss: 0.173296\n",
      "Train Epoch: 2 [6400/60000 (11%)]\tTrain Loss: 0.078405\n",
      "Train Epoch: 2 [12800/60000 (21%)]\tTrain Loss: 0.369964\n",
      "Train Epoch: 2 [19200/60000 (32%)]\tTrain Loss: 0.671949\n",
      "Train Epoch: 2 [25600/60000 (43%)]\tTrain Loss: 0.132951\n",
      "Train Epoch: 2 [32000/60000 (53%)]\tTrain Loss: 0.360613\n",
      "Train Epoch: 2 [38400/60000 (64%)]\tTrain Loss: 0.253488\n",
      "Train Epoch: 2 [44800/60000 (75%)]\tTrain Loss: 0.061039\n",
      "Train Epoch: 2 [51200/60000 (85%)]\tTrain Loss: 0.043443\n",
      "Train Epoch: 2 [57600/60000 (96%)]\tTrain Loss: 0.104671\n",
      "\n",
      "[EPOCH: 2], \tValidation Loss: 0.0035, \tValidation Accuracy: 96.63 % \n",
      "\n",
      "Train Epoch: 3 [0/60000 (0%)]\tTrain Loss: 0.246676\n",
      "Train Epoch: 3 [6400/60000 (11%)]\tTrain Loss: 0.168841\n",
      "Train Epoch: 3 [12800/60000 (21%)]\tTrain Loss: 0.227674\n",
      "Train Epoch: 3 [19200/60000 (32%)]\tTrain Loss: 0.248884\n",
      "Train Epoch: 3 [25600/60000 (43%)]\tTrain Loss: 0.247566\n",
      "Train Epoch: 3 [32000/60000 (53%)]\tTrain Loss: 0.201656\n",
      "Train Epoch: 3 [38400/60000 (64%)]\tTrain Loss: 0.238831\n",
      "Train Epoch: 3 [44800/60000 (75%)]\tTrain Loss: 0.162650\n",
      "Train Epoch: 3 [51200/60000 (85%)]\tTrain Loss: 0.187106\n",
      "Train Epoch: 3 [57600/60000 (96%)]\tTrain Loss: 0.237094\n",
      "\n",
      "[EPOCH: 3], \tValidation Loss: 0.0030, \tValidation Accuracy: 97.11 % \n",
      "\n",
      "Train Epoch: 4 [0/60000 (0%)]\tTrain Loss: 0.172378\n",
      "Train Epoch: 4 [6400/60000 (11%)]\tTrain Loss: 0.075718\n",
      "Train Epoch: 4 [12800/60000 (21%)]\tTrain Loss: 0.169484\n",
      "Train Epoch: 4 [19200/60000 (32%)]\tTrain Loss: 0.430406\n",
      "Train Epoch: 4 [25600/60000 (43%)]\tTrain Loss: 0.405372\n",
      "Train Epoch: 4 [32000/60000 (53%)]\tTrain Loss: 0.097762\n",
      "Train Epoch: 4 [38400/60000 (64%)]\tTrain Loss: 0.430930\n",
      "Train Epoch: 4 [44800/60000 (75%)]\tTrain Loss: 0.087810\n",
      "Train Epoch: 4 [51200/60000 (85%)]\tTrain Loss: 0.291352\n",
      "Train Epoch: 4 [57600/60000 (96%)]\tTrain Loss: 0.340447\n",
      "\n",
      "[EPOCH: 4], \tValidation Loss: 0.0026, \tValidation Accuracy: 97.36 % \n",
      "\n",
      "Train Epoch: 5 [0/60000 (0%)]\tTrain Loss: 0.148690\n",
      "Train Epoch: 5 [6400/60000 (11%)]\tTrain Loss: 0.140704\n",
      "Train Epoch: 5 [12800/60000 (21%)]\tTrain Loss: 0.283441\n",
      "Train Epoch: 5 [19200/60000 (32%)]\tTrain Loss: 0.178521\n",
      "Train Epoch: 5 [25600/60000 (43%)]\tTrain Loss: 0.851616\n",
      "Train Epoch: 5 [32000/60000 (53%)]\tTrain Loss: 0.344190\n",
      "Train Epoch: 5 [38400/60000 (64%)]\tTrain Loss: 0.141822\n",
      "Train Epoch: 5 [44800/60000 (75%)]\tTrain Loss: 0.136034\n",
      "Train Epoch: 5 [51200/60000 (85%)]\tTrain Loss: 0.121619\n",
      "Train Epoch: 5 [57600/60000 (96%)]\tTrain Loss: 0.169930\n",
      "\n",
      "[EPOCH: 5], \tValidation Loss: 0.0026, \tValidation Accuracy: 97.55 % \n",
      "\n",
      "Train Epoch: 6 [0/60000 (0%)]\tTrain Loss: 0.164922\n",
      "Train Epoch: 6 [6400/60000 (11%)]\tTrain Loss: 0.025568\n",
      "Train Epoch: 6 [12800/60000 (21%)]\tTrain Loss: 0.174212\n",
      "Train Epoch: 6 [19200/60000 (32%)]\tTrain Loss: 0.134953\n",
      "Train Epoch: 6 [25600/60000 (43%)]\tTrain Loss: 0.107992\n",
      "Train Epoch: 6 [32000/60000 (53%)]\tTrain Loss: 0.234857\n",
      "Train Epoch: 6 [38400/60000 (64%)]\tTrain Loss: 0.154710\n",
      "Train Epoch: 6 [44800/60000 (75%)]\tTrain Loss: 0.073391\n",
      "Train Epoch: 6 [51200/60000 (85%)]\tTrain Loss: 0.465650\n",
      "Train Epoch: 6 [57600/60000 (96%)]\tTrain Loss: 0.337980\n",
      "\n",
      "[EPOCH: 6], \tValidation Loss: 0.0025, \tValidation Accuracy: 97.52 % \n",
      "\n",
      "Train Epoch: 7 [0/60000 (0%)]\tTrain Loss: 0.019116\n",
      "Train Epoch: 7 [6400/60000 (11%)]\tTrain Loss: 0.168645\n",
      "Train Epoch: 7 [12800/60000 (21%)]\tTrain Loss: 0.022168\n",
      "Train Epoch: 7 [19200/60000 (32%)]\tTrain Loss: 0.205560\n",
      "Train Epoch: 7 [25600/60000 (43%)]\tTrain Loss: 0.329354\n",
      "Train Epoch: 7 [32000/60000 (53%)]\tTrain Loss: 0.123325\n",
      "Train Epoch: 7 [38400/60000 (64%)]\tTrain Loss: 0.106685\n",
      "Train Epoch: 7 [44800/60000 (75%)]\tTrain Loss: 0.124981\n",
      "Train Epoch: 7 [51200/60000 (85%)]\tTrain Loss: 0.036132\n",
      "Train Epoch: 7 [57600/60000 (96%)]\tTrain Loss: 0.321575\n",
      "\n",
      "[EPOCH: 7], \tValidation Loss: 0.0023, \tValidation Accuracy: 97.93 % \n",
      "\n",
      "Train Epoch: 8 [0/60000 (0%)]\tTrain Loss: 0.278006\n",
      "Train Epoch: 8 [6400/60000 (11%)]\tTrain Loss: 0.146887\n",
      "Train Epoch: 8 [12800/60000 (21%)]\tTrain Loss: 0.107468\n",
      "Train Epoch: 8 [19200/60000 (32%)]\tTrain Loss: 0.054601\n",
      "Train Epoch: 8 [25600/60000 (43%)]\tTrain Loss: 0.177369\n",
      "Train Epoch: 8 [32000/60000 (53%)]\tTrain Loss: 0.349341\n",
      "Train Epoch: 8 [38400/60000 (64%)]\tTrain Loss: 0.529681\n",
      "Train Epoch: 8 [44800/60000 (75%)]\tTrain Loss: 0.055278\n",
      "Train Epoch: 8 [51200/60000 (85%)]\tTrain Loss: 0.029361\n",
      "Train Epoch: 8 [57600/60000 (96%)]\tTrain Loss: 0.038567\n",
      "\n",
      "[EPOCH: 8], \tValidation Loss: 0.0023, \tValidation Accuracy: 97.80 % \n",
      "\n",
      "Train Epoch: 9 [0/60000 (0%)]\tTrain Loss: 0.104102\n",
      "Train Epoch: 9 [6400/60000 (11%)]\tTrain Loss: 0.011553\n",
      "Train Epoch: 9 [12800/60000 (21%)]\tTrain Loss: 0.163579\n",
      "Train Epoch: 9 [19200/60000 (32%)]\tTrain Loss: 0.446951\n",
      "Train Epoch: 9 [25600/60000 (43%)]\tTrain Loss: 0.305558\n",
      "Train Epoch: 9 [32000/60000 (53%)]\tTrain Loss: 0.088377\n",
      "Train Epoch: 9 [38400/60000 (64%)]\tTrain Loss: 0.068454\n",
      "Train Epoch: 9 [44800/60000 (75%)]\tTrain Loss: 0.149492\n",
      "Train Epoch: 9 [51200/60000 (85%)]\tTrain Loss: 0.017744\n",
      "Train Epoch: 9 [57600/60000 (96%)]\tTrain Loss: 0.199455\n",
      "\n",
      "[EPOCH: 9], \tValidation Loss: 0.0022, \tValidation Accuracy: 97.93 % \n",
      "\n",
      "Train Epoch: 10 [0/60000 (0%)]\tTrain Loss: 0.412145\n",
      "Train Epoch: 10 [6400/60000 (11%)]\tTrain Loss: 0.156970\n",
      "Train Epoch: 10 [12800/60000 (21%)]\tTrain Loss: 0.183679\n",
      "Train Epoch: 10 [19200/60000 (32%)]\tTrain Loss: 0.062567\n",
      "Train Epoch: 10 [25600/60000 (43%)]\tTrain Loss: 0.077412\n",
      "Train Epoch: 10 [32000/60000 (53%)]\tTrain Loss: 0.133133\n",
      "Train Epoch: 10 [38400/60000 (64%)]\tTrain Loss: 0.223521\n",
      "Train Epoch: 10 [44800/60000 (75%)]\tTrain Loss: 0.029871\n",
      "Train Epoch: 10 [51200/60000 (85%)]\tTrain Loss: 0.340703\n",
      "Train Epoch: 10 [57600/60000 (96%)]\tTrain Loss: 0.101520\n",
      "\n",
      "[EPOCH: 10], \tValidation Loss: 0.0023, \tValidation Accuracy: 97.80 % \n",
      "\n"
     ]
    }
   ],
   "source": [
    "''' 8. MLP 학습 실행 '''\n",
    "''' 9. EPOCH 별 Test set Loss 및 Test set Accuracy 확인하기 '''\n",
    "for epoch in range(1, EPOCHS + 1):\n",
    "    train(model, train_loader, optimizer, log_interval = 200)\n",
    "    valid_loss, valid_accuracy = evaluate(model, test_loader)\n",
    "    print(\"\\n[EPOCH: {}], \\tValidation Loss: {:.4f}, \\tValidation Accuracy: {:.2f} % \\n\".format(\n",
    "        epoch, valid_loss, valid_accuracy))"
   ]
  },
  {
   "cell_type": "code",
   "execution_count": null,
   "metadata": {},
   "outputs": [],
   "source": []
  },
  {
   "cell_type": "code",
   "execution_count": null,
   "metadata": {},
   "outputs": [],
   "source": []
  }
 ],
 "metadata": {
  "kernelspec": {
   "display_name": "Python 3",
   "language": "python",
   "name": "python3"
  },
  "language_info": {
   "codemirror_mode": {
    "name": "ipython",
    "version": 3
   },
   "file_extension": ".py",
   "mimetype": "text/x-python",
   "name": "python",
   "nbconvert_exporter": "python",
   "pygments_lexer": "ipython3",
   "version": "3.6.9"
  }
 },
 "nbformat": 4,
 "nbformat_minor": 4
}
