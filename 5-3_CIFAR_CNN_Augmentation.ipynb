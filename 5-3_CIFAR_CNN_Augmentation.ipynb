{
 "cells": [
  {
   "cell_type": "code",
   "execution_count": 1,
   "metadata": {},
   "outputs": [],
   "source": [
    "''' 1. 모듈 임포트 '''\n",
    "import numpy as np\n",
    "import matplotlib.pyplot as plt\n",
    "\n",
    "import torch\n",
    "import torch.nn as nn\n",
    "import torch.nn.functional as F\n",
    "import torch.optim as optim\n",
    "\n",
    "from torchvision import transforms, datasets"
   ]
  },
  {
   "cell_type": "code",
   "execution_count": 2,
   "metadata": {},
   "outputs": [
    {
     "name": "stdout",
     "output_type": "stream",
     "text": [
      "Using PyTorch version: 1.5.0+cu101  Device: cuda\n"
     ]
    }
   ],
   "source": [
    "''' 2. 딥러닝 모델을 설계할 때 활용하는 장비 확인 '''\n",
    "if torch.cuda.is_available():\n",
    "    DEVICE = torch.device('cuda')\n",
    "else:\n",
    "    DEVICE = torch.device('cpu')\n",
    "\n",
    "print('Using PyTorch version:', torch.__version__, ' Device:', DEVICE)"
   ]
  },
  {
   "cell_type": "code",
   "execution_count": 3,
   "metadata": {},
   "outputs": [],
   "source": [
    "BATCH_SIZE = 32\n",
    "EPOCHS = 10"
   ]
  },
  {
   "cell_type": "code",
   "execution_count": 4,
   "metadata": {},
   "outputs": [
    {
     "name": "stdout",
     "output_type": "stream",
     "text": [
      "Downloading https://www.cs.toronto.edu/~kriz/cifar-10-python.tar.gz to ../data/CIFAR_10/cifar-10-python.tar.gz\n"
     ]
    },
    {
     "data": {
      "application/vnd.jupyter.widget-view+json": {
       "model_id": "72b9c632962c44b9b4fceb2a78c45086",
       "version_major": 2,
       "version_minor": 0
      },
      "text/plain": [
       "HBox(children=(FloatProgress(value=1.0, bar_style='info', max=1.0), HTML(value='')))"
      ]
     },
     "metadata": {},
     "output_type": "display_data"
    },
    {
     "name": "stdout",
     "output_type": "stream",
     "text": [
      "Extracting ../data/CIFAR_10/cifar-10-python.tar.gz to ../data/CIFAR_10\n"
     ]
    }
   ],
   "source": [
    "''' 3. CIFAR10 데이터 다운로드 '''\n",
    "train_dataset = datasets.CIFAR10(root = \"../data/CIFAR_10\",\n",
    "                                  train = True,\n",
    "                                  download = True,\n",
    "                                  transform = transforms.Compose([                                 \n",
    "                                      transforms.RandomHorizontalFlip(),                           \n",
    "                                      transforms.ToTensor(),                                       \n",
    "                                      transforms.Normalize((0.5, 0.5, 0.5), (0.5, 0.5, 0.5))]))    \n",
    "\n",
    "test_dataset = datasets.CIFAR10(root = \"../data/CIFAR_10\",\n",
    "                                train = False,\n",
    "                                  transform = transforms.Compose([                                 \n",
    "                                      transforms.RandomHorizontalFlip(),                           \n",
    "                                      transforms.ToTensor(),                                       \n",
    "                                      transforms.Normalize((0.5, 0.5, 0.5), (0.5, 0.5, 0.5))]))    \n",
    "\n",
    "train_loader = torch.utils.data.DataLoader(dataset = train_dataset,\n",
    "                                            batch_size = BATCH_SIZE,\n",
    "                                            shuffle = True)\n",
    "\n",
    "test_loader = torch.utils.data.DataLoader(dataset = test_dataset,\n",
    "                                          batch_size = BATCH_SIZE,\n",
    "                                          shuffle = False)"
   ]
  },
  {
   "cell_type": "code",
   "execution_count": 5,
   "metadata": {},
   "outputs": [
    {
     "name": "stdout",
     "output_type": "stream",
     "text": [
      "X_train: torch.Size([32, 3, 32, 32]) type: torch.FloatTensor\n",
      "y_train: torch.Size([32]) type: torch.LongTensor\n"
     ]
    }
   ],
   "source": [
    "''' 4. 데이터 확인하기 (1) '''\n",
    "for (X_train, y_train) in train_loader:\n",
    "    print('X_train:', X_train.size(), 'type:', X_train.type())\n",
    "    print('y_train:', y_train.size(), 'type:', y_train.type())\n",
    "    break"
   ]
  },
  {
   "cell_type": "code",
   "execution_count": 6,
   "metadata": {},
   "outputs": [
    {
     "name": "stderr",
     "output_type": "stream",
     "text": [
      "Clipping input data to the valid range for imshow with RGB data ([0..1] for floats or [0..255] for integers).\n",
      "Clipping input data to the valid range for imshow with RGB data ([0..1] for floats or [0..255] for integers).\n",
      "Clipping input data to the valid range for imshow with RGB data ([0..1] for floats or [0..255] for integers).\n",
      "Clipping input data to the valid range for imshow with RGB data ([0..1] for floats or [0..255] for integers).\n",
      "Clipping input data to the valid range for imshow with RGB data ([0..1] for floats or [0..255] for integers).\n",
      "Clipping input data to the valid range for imshow with RGB data ([0..1] for floats or [0..255] for integers).\n",
      "Clipping input data to the valid range for imshow with RGB data ([0..1] for floats or [0..255] for integers).\n",
      "Clipping input data to the valid range for imshow with RGB data ([0..1] for floats or [0..255] for integers).\n",
      "Clipping input data to the valid range for imshow with RGB data ([0..1] for floats or [0..255] for integers).\n",
      "Clipping input data to the valid range for imshow with RGB data ([0..1] for floats or [0..255] for integers).\n"
     ]
    },
    {
     "data": {
      "image/png": "[encoded data removed]",
      "text/plain": [
       "<Figure size 720x72 with 10 Axes>"
      ]
     },
     "metadata": {
      "needs_background": "light"
     },
     "output_type": "display_data"
    }
   ],
   "source": [
    "''' 4. 데이터 확인하기 (2) '''\n",
    "pltsize = 1\n",
    "plt.figure(figsize=(10 * pltsize, pltsize))\n",
    "\n",
    "for i in range(10):\n",
    "    plt.subplot(1, 10, i + 1)\n",
    "    plt.axis('off')\n",
    "    plt.imshow(np.transpose(X_train[i], (1, 2, 0)))\n",
    "    plt.title('Class: ' + str(y_train[i].item()))"
   ]
  },
  {
   "cell_type": "code",
   "execution_count": 7,
   "metadata": {},
   "outputs": [],
   "source": [
    "''' 5. CNN (Multi Layer Perceptron) 모델 설계하기 '''\n",
    "class CNN(nn.Module):\n",
    "    def __init__(self):\n",
    "        super(CNN, self).__init__()\n",
    "        self.conv1 = nn.Conv2d(in_channels = 3, out_channels = 8, kernel_size = 3, padding = 1)\n",
    "        self.conv2 = nn.Conv2d(in_channels = 8, out_channels = 16, kernel_size = 3, padding = 1)\n",
    "        self.pool = nn.MaxPool2d(kernel_size = 2, stride = 2)\n",
    "        self.fc1 = nn.Linear(8 * 8 * 16, 64)\n",
    "        self.fc2 = nn.Linear(64, 32)\n",
    "        self.fc3 = nn.Linear(32, 10)\n",
    "        \n",
    "    def forward(self, x):\n",
    "        x = self.conv1(x) \n",
    "        x = F.relu(x)     \n",
    "        x = self.pool(x)  \n",
    "        x = self.conv2(x) \n",
    "        x = F.relu(x)     \n",
    "        x = self.pool(x)  \n",
    "        \n",
    "        x = x.view(-1, 8 * 8 * 16)\n",
    "        x = self.fc1(x)\n",
    "        x = F.relu(x)\n",
    "        x = self.fc2(x)\n",
    "        x = F.relu(x)\n",
    "        x = self.fc3(x)\n",
    "        x = F.log_softmax(x)\n",
    "        return x"
   ]
  },
  {
   "cell_type": "code",
   "execution_count": 8,
   "metadata": {},
   "outputs": [
    {
     "name": "stdout",
     "output_type": "stream",
     "text": [
      "CNN(\n",
      "  (conv1): Conv2d(3, 8, kernel_size=(3, 3), stride=(1, 1), padding=(1, 1))\n",
      "  (conv2): Conv2d(8, 16, kernel_size=(3, 3), stride=(1, 1), padding=(1, 1))\n",
      "  (pool): MaxPool2d(kernel_size=2, stride=2, padding=0, dilation=1, ceil_mode=False)\n",
      "  (fc1): Linear(in_features=1024, out_features=64, bias=True)\n",
      "  (fc2): Linear(in_features=64, out_features=32, bias=True)\n",
      "  (fc3): Linear(in_features=32, out_features=10, bias=True)\n",
      ")\n"
     ]
    }
   ],
   "source": [
    "''' 6. Optimizer, Objective Function 설정하기 '''\n",
    "model = CNN().to(DEVICE)\n",
    "optimizer = torch.optim.Adam(model.parameters(), lr = 0.001)\n",
    "criterion = nn.CrossEntropyLoss()\n",
    "\n",
    "print(model)"
   ]
  },
  {
   "cell_type": "code",
   "execution_count": 9,
   "metadata": {},
   "outputs": [],
   "source": [
    "''' 7. CNN 학습, Test 성능 확인하는 함수 정의 '''\n",
    "def train(model, train_loader, optimizer, log_interval):\n",
    "    model.train()\n",
    "    for batch_idx, (image, label) in enumerate(train_loader):\n",
    "        image = image.to(DEVICE)\n",
    "        label = label.to(DEVICE)\n",
    "        optimizer.zero_grad()\n",
    "        output = model(image)\n",
    "        loss = criterion(output, label)\n",
    "        loss.backward()\n",
    "        optimizer.step()\n",
    "\n",
    "        if batch_idx % log_interval == 0:\n",
    "            print(\"Train Epoch: {} [{}/{} ({:.0f}%)]\\tTrain Loss: {:.6f}\".format(\n",
    "                epoch, batch_idx * len(image), \n",
    "                len(train_loader.dataset), 100. * batch_idx / len(train_loader), \n",
    "                loss.item()))\n"
   ]
  },
  {
   "cell_type": "code",
   "execution_count": 10,
   "metadata": {},
   "outputs": [],
   "source": [
    "def evaluate(model, valid_loader):\n",
    "    model.eval()\n",
    "    valid_loss = 0\n",
    "    correct = 0\n",
    "\n",
    "    with torch.no_grad():\n",
    "        for image, label in valid_loader:\n",
    "            image = image.to(DEVICE)\n",
    "            label = label.to(DEVICE)\n",
    "            output = model(image)\n",
    "            valid_loss += criterion(output, label).item()\n",
    "            prediction = output.max(1, keepdim = True)[1]\n",
    "            correct += prediction.eq(label.view_as(prediction)).sum().item()\n",
    "    \n",
    "    valid_loss /= len(valid_loader.dataset)\n",
    "    valid_accuracy = 100. * correct / len(valid_loader.dataset)\n",
    "    return valid_loss, valid_accuracy"
   ]
  },
  {
   "cell_type": "code",
   "execution_count": 11,
   "metadata": {},
   "outputs": [
    {
     "name": "stdout",
     "output_type": "stream",
     "text": [
      "Train Epoch: 1 [0/50000 (0%)]\tTrain Loss: 2.307813\n"
     ]
    },
    {
     "name": "stderr",
     "output_type": "stream",
     "text": [
      "/home/justin/101/lib/python3.6/site-packages/ipykernel_launcher.py:26: UserWarning: Implicit dimension choice for log_softmax has been deprecated. Change the call to include dim=X as an argument.\n"
     ]
    },
    {
     "name": "stdout",
     "output_type": "stream",
     "text": [
      "Train Epoch: 1 [6400/50000 (13%)]\tTrain Loss: 1.771365\n",
      "Train Epoch: 1 [12800/50000 (26%)]\tTrain Loss: 1.894200\n",
      "Train Epoch: 1 [19200/50000 (38%)]\tTrain Loss: 1.681909\n",
      "Train Epoch: 1 [25600/50000 (51%)]\tTrain Loss: 1.789073\n",
      "Train Epoch: 1 [32000/50000 (64%)]\tTrain Loss: 1.714754\n",
      "Train Epoch: 1 [38400/50000 (77%)]\tTrain Loss: 1.618534\n",
      "Train Epoch: 1 [44800/50000 (90%)]\tTrain Loss: 1.535167\n",
      "\n",
      "[EPOCH: 1], \tValidation Loss: 0.0422, \tValidation Accuracy: 51.41 % \n",
      "\n",
      "Train Epoch: 2 [0/50000 (0%)]\tTrain Loss: 1.357558\n",
      "Train Epoch: 2 [6400/50000 (13%)]\tTrain Loss: 1.315840\n",
      "Train Epoch: 2 [12800/50000 (26%)]\tTrain Loss: 0.962034\n",
      "Train Epoch: 2 [19200/50000 (38%)]\tTrain Loss: 1.301427\n",
      "Train Epoch: 2 [25600/50000 (51%)]\tTrain Loss: 1.195486\n",
      "Train Epoch: 2 [32000/50000 (64%)]\tTrain Loss: 1.314424\n",
      "Train Epoch: 2 [38400/50000 (77%)]\tTrain Loss: 1.100243\n",
      "Train Epoch: 2 [44800/50000 (90%)]\tTrain Loss: 1.228732\n",
      "\n",
      "[EPOCH: 2], \tValidation Loss: 0.0371, \tValidation Accuracy: 57.67 % \n",
      "\n",
      "Train Epoch: 3 [0/50000 (0%)]\tTrain Loss: 1.202132\n",
      "Train Epoch: 3 [6400/50000 (13%)]\tTrain Loss: 1.255023\n",
      "Train Epoch: 3 [12800/50000 (26%)]\tTrain Loss: 1.045113\n",
      "Train Epoch: 3 [19200/50000 (38%)]\tTrain Loss: 1.577782\n",
      "Train Epoch: 3 [25600/50000 (51%)]\tTrain Loss: 1.522288\n",
      "Train Epoch: 3 [32000/50000 (64%)]\tTrain Loss: 1.168505\n",
      "Train Epoch: 3 [38400/50000 (77%)]\tTrain Loss: 1.031295\n",
      "Train Epoch: 3 [44800/50000 (90%)]\tTrain Loss: 0.852052\n",
      "\n",
      "[EPOCH: 3], \tValidation Loss: 0.0351, \tValidation Accuracy: 60.08 % \n",
      "\n",
      "Train Epoch: 4 [0/50000 (0%)]\tTrain Loss: 1.419069\n",
      "Train Epoch: 4 [6400/50000 (13%)]\tTrain Loss: 0.961593\n",
      "Train Epoch: 4 [12800/50000 (26%)]\tTrain Loss: 1.347113\n",
      "Train Epoch: 4 [19200/50000 (38%)]\tTrain Loss: 0.708067\n",
      "Train Epoch: 4 [25600/50000 (51%)]\tTrain Loss: 1.187292\n",
      "Train Epoch: 4 [32000/50000 (64%)]\tTrain Loss: 1.150433\n",
      "Train Epoch: 4 [38400/50000 (77%)]\tTrain Loss: 1.267617\n",
      "Train Epoch: 4 [44800/50000 (90%)]\tTrain Loss: 0.756486\n",
      "\n",
      "[EPOCH: 4], \tValidation Loss: 0.0333, \tValidation Accuracy: 63.27 % \n",
      "\n",
      "Train Epoch: 5 [0/50000 (0%)]\tTrain Loss: 0.746205\n",
      "Train Epoch: 5 [6400/50000 (13%)]\tTrain Loss: 1.187560\n",
      "Train Epoch: 5 [12800/50000 (26%)]\tTrain Loss: 1.305332\n",
      "Train Epoch: 5 [19200/50000 (38%)]\tTrain Loss: 1.180925\n",
      "Train Epoch: 5 [25600/50000 (51%)]\tTrain Loss: 1.334116\n",
      "Train Epoch: 5 [32000/50000 (64%)]\tTrain Loss: 0.902399\n",
      "Train Epoch: 5 [38400/50000 (77%)]\tTrain Loss: 0.567208\n",
      "Train Epoch: 5 [44800/50000 (90%)]\tTrain Loss: 0.909268\n",
      "\n",
      "[EPOCH: 5], \tValidation Loss: 0.0321, \tValidation Accuracy: 64.18 % \n",
      "\n",
      "Train Epoch: 6 [0/50000 (0%)]\tTrain Loss: 1.121476\n",
      "Train Epoch: 6 [6400/50000 (13%)]\tTrain Loss: 1.088034\n",
      "Train Epoch: 6 [12800/50000 (26%)]\tTrain Loss: 1.302253\n",
      "Train Epoch: 6 [19200/50000 (38%)]\tTrain Loss: 0.916268\n",
      "Train Epoch: 6 [25600/50000 (51%)]\tTrain Loss: 1.289586\n",
      "Train Epoch: 6 [32000/50000 (64%)]\tTrain Loss: 0.712989\n",
      "Train Epoch: 6 [38400/50000 (77%)]\tTrain Loss: 1.036437\n",
      "Train Epoch: 6 [44800/50000 (90%)]\tTrain Loss: 1.053475\n",
      "\n",
      "[EPOCH: 6], \tValidation Loss: 0.0313, \tValidation Accuracy: 65.13 % \n",
      "\n",
      "Train Epoch: 7 [0/50000 (0%)]\tTrain Loss: 0.830692\n",
      "Train Epoch: 7 [6400/50000 (13%)]\tTrain Loss: 0.852959\n",
      "Train Epoch: 7 [12800/50000 (26%)]\tTrain Loss: 0.810216\n",
      "Train Epoch: 7 [19200/50000 (38%)]\tTrain Loss: 1.110770\n",
      "Train Epoch: 7 [25600/50000 (51%)]\tTrain Loss: 1.223104\n",
      "Train Epoch: 7 [32000/50000 (64%)]\tTrain Loss: 0.943605\n",
      "Train Epoch: 7 [38400/50000 (77%)]\tTrain Loss: 0.750453\n",
      "Train Epoch: 7 [44800/50000 (90%)]\tTrain Loss: 0.935166\n",
      "\n",
      "[EPOCH: 7], \tValidation Loss: 0.0307, \tValidation Accuracy: 66.31 % \n",
      "\n",
      "Train Epoch: 8 [0/50000 (0%)]\tTrain Loss: 1.164082\n",
      "Train Epoch: 8 [6400/50000 (13%)]\tTrain Loss: 1.003223\n",
      "Train Epoch: 8 [12800/50000 (26%)]\tTrain Loss: 0.956043\n",
      "Train Epoch: 8 [19200/50000 (38%)]\tTrain Loss: 0.922795\n",
      "Train Epoch: 8 [25600/50000 (51%)]\tTrain Loss: 1.162729\n",
      "Train Epoch: 8 [32000/50000 (64%)]\tTrain Loss: 1.023766\n",
      "Train Epoch: 8 [38400/50000 (77%)]\tTrain Loss: 1.092460\n",
      "Train Epoch: 8 [44800/50000 (90%)]\tTrain Loss: 0.865505\n",
      "\n",
      "[EPOCH: 8], \tValidation Loss: 0.0313, \tValidation Accuracy: 65.22 % \n",
      "\n",
      "Train Epoch: 9 [0/50000 (0%)]\tTrain Loss: 1.090398\n",
      "Train Epoch: 9 [6400/50000 (13%)]\tTrain Loss: 0.488336\n",
      "Train Epoch: 9 [12800/50000 (26%)]\tTrain Loss: 0.769032\n",
      "Train Epoch: 9 [19200/50000 (38%)]\tTrain Loss: 0.866324\n",
      "Train Epoch: 9 [25600/50000 (51%)]\tTrain Loss: 0.765541\n",
      "Train Epoch: 9 [32000/50000 (64%)]\tTrain Loss: 0.924698\n",
      "Train Epoch: 9 [38400/50000 (77%)]\tTrain Loss: 0.982249\n",
      "Train Epoch: 9 [44800/50000 (90%)]\tTrain Loss: 1.199564\n",
      "\n",
      "[EPOCH: 9], \tValidation Loss: 0.0301, \tValidation Accuracy: 66.95 % \n",
      "\n",
      "Train Epoch: 10 [0/50000 (0%)]\tTrain Loss: 1.045036\n",
      "Train Epoch: 10 [6400/50000 (13%)]\tTrain Loss: 1.041929\n",
      "Train Epoch: 10 [12800/50000 (26%)]\tTrain Loss: 1.040259\n",
      "Train Epoch: 10 [19200/50000 (38%)]\tTrain Loss: 0.965523\n",
      "Train Epoch: 10 [25600/50000 (51%)]\tTrain Loss: 0.877903\n",
      "Train Epoch: 10 [32000/50000 (64%)]\tTrain Loss: 0.899916\n",
      "Train Epoch: 10 [38400/50000 (77%)]\tTrain Loss: 0.675815\n",
      "Train Epoch: 10 [44800/50000 (90%)]\tTrain Loss: 0.894746\n",
      "\n",
      "[EPOCH: 10], \tValidation Loss: 0.0301, \tValidation Accuracy: 66.71 % \n",
      "\n"
     ]
    }
   ],
   "source": [
    "''' 8. CNN 학습 실행 '''\n",
    "''' 9. EPOCH 별 Test set Loss 및 Test set Accuracy 확인하기 '''\n",
    "for epoch in range(1, EPOCHS + 1):\n",
    "    train(model, train_loader, optimizer, log_interval = 200)\n",
    "    valid_loss, valid_accuracy = evaluate(model, test_loader)\n",
    "    print(\"\\n[EPOCH: {}], \\tValidation Loss: {:.4f}, \\tValidation Accuracy: {:.2f} % \\n\".format(\n",
    "        epoch, valid_loss, valid_accuracy))"
   ]
  },
  {
   "cell_type": "code",
   "execution_count": null,
   "metadata": {},
   "outputs": [],
   "source": []
  },
  {
   "cell_type": "code",
   "execution_count": null,
   "metadata": {},
   "outputs": [],
   "source": []
  }
 ],
 "metadata": {
  "kernelspec": {
   "display_name": "Python 3",
   "language": "python",
   "name": "python3"
  },
  "language_info": {
   "codemirror_mode": {
    "name": "ipython",
    "version": 3
   },
   "file_extension": ".py",
   "mimetype": "text/x-python",
   "name": "python",
   "nbconvert_exporter": "python",
   "pygments_lexer": "ipython3",
   "version": "3.6.9"
  }
 },
 "nbformat": 4,
 "nbformat_minor": 4
}
