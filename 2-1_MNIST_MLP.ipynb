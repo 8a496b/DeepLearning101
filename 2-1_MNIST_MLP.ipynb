{
 "cells": [
  {
   "cell_type": "code",
   "execution_count": 1,
   "metadata": {},
   "outputs": [],
   "source": [
    "''' 1. 모듈 임포트 '''\n",
    "import numpy as np                                     \n",
    "import matplotlib.pyplot as plt                        \n",
    "\n",
    "import torch                                           \n",
    "import torch.nn as nn                                  \n",
    "import torch.nn.functional as F                        \n",
    "from torchvision import transforms, datasets           "
   ]
  },
  {
   "cell_type": "code",
   "execution_count": 2,
   "metadata": {},
   "outputs": [
    {
     "name": "stdout",
     "output_type": "stream",
     "text": [
      "Using PyTorch version: 1.5.0+cu101  Device: cuda\n"
     ]
    }
   ],
   "source": [
    "''' 2. 딥러닝 모델을 설계할 때 활용하는 장비 확인 '''\n",
    "if torch.cuda.is_available():\n",
    "    DEVICE = torch.device('cuda')\n",
    "else:\n",
    "    DEVICE = torch.device('cpu')\n",
    "\n",
    "print('Using PyTorch version:', torch.__version__, ' Device:', DEVICE)"
   ]
  },
  {
   "cell_type": "code",
   "execution_count": 3,
   "metadata": {},
   "outputs": [],
   "source": [
    "BATCH_SIZE = 32    # (1)\n",
    "EPOCHS = 10        # (2)"
   ]
  },
  {
   "cell_type": "code",
   "execution_count": 4,
   "metadata": {},
   "outputs": [
    {
     "name": "stdout",
     "output_type": "stream",
     "text": [
      "Downloading http://yann.lecun.com/exdb/mnist/train-images-idx3-ubyte.gz to ../data/MNIST/MNIST/raw/train-images-idx3-ubyte.gz\n"
     ]
    },
    {
     "data": {
      "application/vnd.jupyter.widget-view+json": {
       "model_id": "026666186d9e475ebe063c843c6b5757",
       "version_major": 2,
       "version_minor": 0
      },
      "text/plain": [
       "HBox(children=(FloatProgress(value=1.0, bar_style='info', max=1.0), HTML(value='')))"
      ]
     },
     "metadata": {},
     "output_type": "display_data"
    },
    {
     "name": "stdout",
     "output_type": "stream",
     "text": [
      "Extracting ../data/MNIST/MNIST/raw/train-images-idx3-ubyte.gz to ../data/MNIST/MNIST/raw\n",
      "Downloading http://yann.lecun.com/exdb/mnist/train-labels-idx1-ubyte.gz to ../data/MNIST/MNIST/raw/train-labels-idx1-ubyte.gz\n"
     ]
    },
    {
     "data": {
      "application/vnd.jupyter.widget-view+json": {
       "model_id": "4eb0b11fbb5d49cca80f6cada2575aa0",
       "version_major": 2,
       "version_minor": 0
      },
      "text/plain": [
       "HBox(children=(FloatProgress(value=1.0, bar_style='info', max=1.0), HTML(value='')))"
      ]
     },
     "metadata": {},
     "output_type": "display_data"
    },
    {
     "name": "stdout",
     "output_type": "stream",
     "text": [
      "Extracting ../data/MNIST/MNIST/raw/train-labels-idx1-ubyte.gz to ../data/MNIST/MNIST/raw\n",
      "Downloading http://yann.lecun.com/exdb/mnist/t10k-images-idx3-ubyte.gz to ../data/MNIST/MNIST/raw/t10k-images-idx3-ubyte.gz\n"
     ]
    },
    {
     "data": {
      "application/vnd.jupyter.widget-view+json": {
       "model_id": "5351e8c3e4a148f3839d58ab14a194d9",
       "version_major": 2,
       "version_minor": 0
      },
      "text/plain": [
       "HBox(children=(FloatProgress(value=1.0, bar_style='info', max=1.0), HTML(value='')))"
      ]
     },
     "metadata": {},
     "output_type": "display_data"
    },
    {
     "name": "stdout",
     "output_type": "stream",
     "text": [
      "Extracting ../data/MNIST/MNIST/raw/t10k-images-idx3-ubyte.gz to ../data/MNIST/MNIST/raw\n",
      "Downloading http://yann.lecun.com/exdb/mnist/t10k-labels-idx1-ubyte.gz to ../data/MNIST/MNIST/raw/t10k-labels-idx1-ubyte.gz\n"
     ]
    },
    {
     "data": {
      "application/vnd.jupyter.widget-view+json": {
       "model_id": "30f60afcd9d04d6791fe4ec8942dbf06",
       "version_major": 2,
       "version_minor": 0
      },
      "text/plain": [
       "HBox(children=(FloatProgress(value=1.0, bar_style='info', max=1.0), HTML(value='')))"
      ]
     },
     "metadata": {},
     "output_type": "display_data"
    },
    {
     "name": "stdout",
     "output_type": "stream",
     "text": [
      "Extracting ../data/MNIST/MNIST/raw/t10k-labels-idx1-ubyte.gz to ../data/MNIST/MNIST/raw\n",
      "Processing...\n",
      "Done!\n"
     ]
    },
    {
     "name": "stderr",
     "output_type": "stream",
     "text": [
      "/pytorch/torch/csrc/utils/tensor_numpy.cpp:141: UserWarning: The given NumPy array is not writeable, and PyTorch does not support non-writeable tensors. This means you can write to the underlying (supposedly non-writeable) NumPy array using the tensor. You may want to copy the array to protect its data or make it writeable before converting it to a tensor. This type of warning will be suppressed for the rest of this program.\n"
     ]
    }
   ],
   "source": [
    "''' 3. MNIST 데이터 다운로드 (Train set, Test set 분리하기) '''\n",
    "train_dataset = datasets.MNIST(root = \"../data/MNIST\",         \n",
    "                               train = True,\n",
    "                               download = True,\n",
    "                               transform = transforms.ToTensor())\n",
    "\n",
    "test_dataset = datasets.MNIST(root = '../data/MNIST',                     \n",
    "                              train = False,\n",
    "                              transform = transforms.ToTensor())\n",
    "\n",
    "train_loader = torch.utils.data.DataLoader(dataset = train_dataset,    \n",
    "                                           batch_size = BATCH_SIZE,\n",
    "                                           shuffle = True)\n",
    "\n",
    "test_loader = torch.utils.data.DataLoader(dataset = test_dataset,     \n",
    "                                          batch_size = BATCH_SIZE, \n",
    "                                          shuffle = False)"
   ]
  },
  {
   "cell_type": "code",
   "execution_count": 5,
   "metadata": {},
   "outputs": [
    {
     "name": "stdout",
     "output_type": "stream",
     "text": [
      "\n",
      "\n",
      "X_train: torch.Size([32, 1, 28, 28]) type: torch.FloatTensor\n",
      "y_train: torch.Size([32]) type: torch.LongTensor\n"
     ]
    }
   ],
   "source": [
    "''' 4. 데이터 확인하기 (1) '''\n",
    "for (X_train, y_train) in train_loader:\n",
    "    print('X_train:', X_train.size(), 'type:', X_train.type())\n",
    "    print('y_train:', y_train.size(), 'type:', y_train.type())\n",
    "    break "
   ]
  },
  {
   "cell_type": "code",
   "execution_count": 6,
   "metadata": {},
   "outputs": [
    {
     "name": "stdout",
     "output_type": "stream",
     "text": [
      "\n",
      "\n"
     ]
    },
    {
     "data": {
      "image/png": "[encoded data removed]",
      "text/plain": [
       "<Figure size 720x72 with 10 Axes>"
      ]
     },
     "metadata": {
      "needs_background": "light"
     },
     "output_type": "display_data"
    }
   ],
   "source": [
    "''' 4. 데이터 확인하기 (2) '''\n",
    "pltsize = 1\n",
    "plt.figure(figsize=(10 * pltsize, pltsize))\n",
    "for i in range(10):\n",
    "    plt.subplot(1, 10, i + 1)\n",
    "    plt.axis('off')\n",
    "    plt.imshow(X_train[i, :, :, :].numpy().reshape(28, 28), cmap = \"gray_r\")\n",
    "    plt.title('Class: ' + str(y_train[i].item()))"
   ]
  },
  {
   "cell_type": "code",
   "execution_count": 7,
   "metadata": {},
   "outputs": [],
   "source": [
    "''' 5. MLP (Multi Layer Perceptron) 모델 설계하기 '''\n",
    "class Net(nn.Module):                         \n",
    "    def __init__(self):                       \n",
    "        super(Net, self).__init__()           \n",
    "        self.fc1 = nn.Linear(28 * 28, 512)    \n",
    "        self.fc2 = nn.Linear(512, 256)        \n",
    "        self.fc3 = nn.Linear(256, 10)         \n",
    "    \n",
    "    def forward(self, x):                     \n",
    "        x = x.view(-1, 28 * 28)        \n",
    "        x = self.fc1(x)                \n",
    "        x = F.sigmoid(x)               \n",
    "        x = self.fc2(x)                \n",
    "        x = F.sigmoid(x)               \n",
    "        x = self.fc3(x)                \n",
    "        x = F.log_softmax(x, dim = 1)  \n",
    "        return x                       "
   ]
  },
  {
   "cell_type": "code",
   "execution_count": 8,
   "metadata": {},
   "outputs": [
    {
     "name": "stdout",
     "output_type": "stream",
     "text": [
      "Net(\n",
      "  (fc1): Linear(in_features=784, out_features=512, bias=True)\n",
      "  (fc2): Linear(in_features=512, out_features=256, bias=True)\n",
      "  (fc3): Linear(in_features=256, out_features=10, bias=True)\n",
      ")\n"
     ]
    }
   ],
   "source": [
    "''' 6. Optimizer, Objective Function 설정하기 '''\n",
    "model = Net().to(DEVICE)\n",
    "optimizer = torch.optim.SGD(model.parameters(), lr = 0.01, momentum = 0.5)\n",
    "criterion = nn.CrossEntropyLoss()\n",
    "\n",
    "print(model)"
   ]
  },
  {
   "cell_type": "code",
   "execution_count": 9,
   "metadata": {},
   "outputs": [],
   "source": [
    "''' 7. MLP 학습, Test 성능 확인하는 함수 정의 '''\n",
    "def train(model, train_loader, optimizer, log_interval):\n",
    "    model.train()\n",
    "    for batch_idx, (image, label) in enumerate(train_loader):\n",
    "        image = image.to(DEVICE)\n",
    "        label = label.to(DEVICE)\n",
    "        optimizer.zero_grad()\n",
    "        output = model(image)\n",
    "        loss = criterion(output, label)\n",
    "        loss.backward()\n",
    "        optimizer.step()\n",
    "\n",
    "        if batch_idx % log_interval == 0:\n",
    "            print(\"Train Epoch: {} [{}/{} ({:.0f}%)]\\tTrain Loss: {:.6f}\".format(\n",
    "                epoch, batch_idx * len(image), \n",
    "                len(train_loader.dataset), 100. * batch_idx / len(train_loader), \n",
    "                loss.item()))"
   ]
  },
  {
   "cell_type": "code",
   "execution_count": 10,
   "metadata": {},
   "outputs": [],
   "source": [
    "def evaluate(model, valid_loader):\n",
    "    model.eval()\n",
    "    valid_loss = 0\n",
    "    correct = 0\n",
    "\n",
    "    with torch.no_grad():\n",
    "        for image, label in valid_loader:\n",
    "            image = image.to(DEVICE)\n",
    "            label = label.to(DEVICE)\n",
    "            output = model(image)\n",
    "            valid_loss += criterion(output, label).item()\n",
    "            prediction = output.max(1, keepdim = True)[1]\n",
    "            correct += prediction.eq(label.view_as(prediction)).sum().item()\n",
    "    \n",
    "    valid_loss /= len(valid_loader.dataset)\n",
    "    valid_accuracy = 100. * correct / len(valid_loader.dataset)\n",
    "    return valid_loss, valid_accuracy"
   ]
  },
  {
   "cell_type": "code",
   "execution_count": 11,
   "metadata": {},
   "outputs": [
    {
     "name": "stdout",
     "output_type": "stream",
     "text": [
      "Train Epoch: 1 [0/60000 (0%)]\tTrain Loss: 2.489687\n"
     ]
    },
    {
     "name": "stderr",
     "output_type": "stream",
     "text": [
      "/home/justin/101/lib/python3.6/site-packages/torch/nn/functional.py:1569: UserWarning: nn.functional.sigmoid is deprecated. Use torch.sigmoid instead.\n",
      "  warnings.warn(\"nn.functional.sigmoid is deprecated. Use torch.sigmoid instead.\")\n"
     ]
    },
    {
     "name": "stdout",
     "output_type": "stream",
     "text": [
      "Train Epoch: 1 [6400/60000 (11%)]\tTrain Loss: 2.275106\n",
      "Train Epoch: 1 [12800/60000 (21%)]\tTrain Loss: 2.230376\n",
      "Train Epoch: 1 [19200/60000 (32%)]\tTrain Loss: 2.301106\n",
      "Train Epoch: 1 [25600/60000 (43%)]\tTrain Loss: 2.305487\n",
      "Train Epoch: 1 [32000/60000 (53%)]\tTrain Loss: 2.309088\n",
      "Train Epoch: 1 [38400/60000 (64%)]\tTrain Loss: 2.275584\n",
      "Train Epoch: 1 [44800/60000 (75%)]\tTrain Loss: 2.284369\n",
      "Train Epoch: 1 [51200/60000 (85%)]\tTrain Loss: 2.217071\n",
      "Train Epoch: 1 [57600/60000 (96%)]\tTrain Loss: 2.302367\n",
      "\n",
      "[EPOCH: 1], \tValidation Loss: 0.0695, \tValidation Accuracy: 27.18 % \n",
      "\n",
      "Train Epoch: 2 [0/60000 (0%)]\tTrain Loss: 2.215932\n",
      "Train Epoch: 2 [6400/60000 (11%)]\tTrain Loss: 2.221966\n",
      "Train Epoch: 2 [12800/60000 (21%)]\tTrain Loss: 2.128772\n",
      "Train Epoch: 2 [19200/60000 (32%)]\tTrain Loss: 2.038285\n",
      "Train Epoch: 2 [25600/60000 (43%)]\tTrain Loss: 1.897661\n",
      "Train Epoch: 2 [32000/60000 (53%)]\tTrain Loss: 1.898947\n",
      "Train Epoch: 2 [38400/60000 (64%)]\tTrain Loss: 1.845023\n",
      "Train Epoch: 2 [44800/60000 (75%)]\tTrain Loss: 1.617538\n",
      "Train Epoch: 2 [51200/60000 (85%)]\tTrain Loss: 1.451121\n",
      "Train Epoch: 2 [57600/60000 (96%)]\tTrain Loss: 1.225742\n",
      "\n",
      "[EPOCH: 2], \tValidation Loss: 0.0384, \tValidation Accuracy: 59.45 % \n",
      "\n",
      "Train Epoch: 3 [0/60000 (0%)]\tTrain Loss: 1.170143\n",
      "Train Epoch: 3 [6400/60000 (11%)]\tTrain Loss: 1.097412\n",
      "Train Epoch: 3 [12800/60000 (21%)]\tTrain Loss: 1.188697\n",
      "Train Epoch: 3 [19200/60000 (32%)]\tTrain Loss: 0.987273\n",
      "Train Epoch: 3 [25600/60000 (43%)]\tTrain Loss: 0.741660\n",
      "Train Epoch: 3 [32000/60000 (53%)]\tTrain Loss: 0.965285\n",
      "Train Epoch: 3 [38400/60000 (64%)]\tTrain Loss: 0.710844\n",
      "Train Epoch: 3 [44800/60000 (75%)]\tTrain Loss: 0.738205\n",
      "Train Epoch: 3 [51200/60000 (85%)]\tTrain Loss: 0.599769\n",
      "Train Epoch: 3 [57600/60000 (96%)]\tTrain Loss: 0.710031\n",
      "\n",
      "[EPOCH: 3], \tValidation Loss: 0.0235, \tValidation Accuracy: 77.53 % \n",
      "\n",
      "Train Epoch: 4 [0/60000 (0%)]\tTrain Loss: 0.613217\n",
      "Train Epoch: 4 [6400/60000 (11%)]\tTrain Loss: 0.772972\n",
      "Train Epoch: 4 [12800/60000 (21%)]\tTrain Loss: 0.583412\n",
      "Train Epoch: 4 [19200/60000 (32%)]\tTrain Loss: 0.519681\n",
      "Train Epoch: 4 [25600/60000 (43%)]\tTrain Loss: 0.849806\n",
      "Train Epoch: 4 [32000/60000 (53%)]\tTrain Loss: 0.590540\n",
      "Train Epoch: 4 [38400/60000 (64%)]\tTrain Loss: 0.647656\n",
      "Train Epoch: 4 [44800/60000 (75%)]\tTrain Loss: 0.467804\n",
      "Train Epoch: 4 [51200/60000 (85%)]\tTrain Loss: 0.776344\n",
      "Train Epoch: 4 [57600/60000 (96%)]\tTrain Loss: 0.420560\n",
      "\n",
      "[EPOCH: 4], \tValidation Loss: 0.0176, \tValidation Accuracy: 83.66 % \n",
      "\n",
      "Train Epoch: 5 [0/60000 (0%)]\tTrain Loss: 0.655714\n",
      "Train Epoch: 5 [6400/60000 (11%)]\tTrain Loss: 0.300255\n",
      "Train Epoch: 5 [12800/60000 (21%)]\tTrain Loss: 0.567031\n",
      "Train Epoch: 5 [19200/60000 (32%)]\tTrain Loss: 0.415415\n",
      "Train Epoch: 5 [25600/60000 (43%)]\tTrain Loss: 0.679453\n",
      "Train Epoch: 5 [32000/60000 (53%)]\tTrain Loss: 0.448858\n",
      "Train Epoch: 5 [38400/60000 (64%)]\tTrain Loss: 0.362294\n",
      "Train Epoch: 5 [44800/60000 (75%)]\tTrain Loss: 0.448758\n",
      "Train Epoch: 5 [51200/60000 (85%)]\tTrain Loss: 0.386124\n",
      "Train Epoch: 5 [57600/60000 (96%)]\tTrain Loss: 0.409926\n",
      "\n",
      "[EPOCH: 5], \tValidation Loss: 0.0145, \tValidation Accuracy: 86.54 % \n",
      "\n",
      "Train Epoch: 6 [0/60000 (0%)]\tTrain Loss: 0.373419\n",
      "Train Epoch: 6 [6400/60000 (11%)]\tTrain Loss: 0.543660\n",
      "Train Epoch: 6 [12800/60000 (21%)]\tTrain Loss: 0.458517\n",
      "Train Epoch: 6 [19200/60000 (32%)]\tTrain Loss: 0.269731\n",
      "Train Epoch: 6 [25600/60000 (43%)]\tTrain Loss: 0.479986\n",
      "Train Epoch: 6 [32000/60000 (53%)]\tTrain Loss: 0.279615\n",
      "Train Epoch: 6 [38400/60000 (64%)]\tTrain Loss: 0.557153\n",
      "Train Epoch: 6 [44800/60000 (75%)]\tTrain Loss: 0.178256\n",
      "Train Epoch: 6 [51200/60000 (85%)]\tTrain Loss: 0.841147\n",
      "Train Epoch: 6 [57600/60000 (96%)]\tTrain Loss: 0.399896\n",
      "\n",
      "[EPOCH: 6], \tValidation Loss: 0.0130, \tValidation Accuracy: 87.92 % \n",
      "\n",
      "Train Epoch: 7 [0/60000 (0%)]\tTrain Loss: 0.364251\n",
      "Train Epoch: 7 [6400/60000 (11%)]\tTrain Loss: 0.209284\n",
      "Train Epoch: 7 [12800/60000 (21%)]\tTrain Loss: 0.592455\n",
      "Train Epoch: 7 [19200/60000 (32%)]\tTrain Loss: 0.509654\n",
      "Train Epoch: 7 [25600/60000 (43%)]\tTrain Loss: 0.335399\n",
      "Train Epoch: 7 [32000/60000 (53%)]\tTrain Loss: 0.456161\n",
      "Train Epoch: 7 [38400/60000 (64%)]\tTrain Loss: 0.243738\n",
      "Train Epoch: 7 [44800/60000 (75%)]\tTrain Loss: 0.399622\n",
      "Train Epoch: 7 [51200/60000 (85%)]\tTrain Loss: 0.771868\n",
      "Train Epoch: 7 [57600/60000 (96%)]\tTrain Loss: 0.348140\n",
      "\n",
      "[EPOCH: 7], \tValidation Loss: 0.0121, \tValidation Accuracy: 88.90 % \n",
      "\n",
      "Train Epoch: 8 [0/60000 (0%)]\tTrain Loss: 0.342773\n",
      "Train Epoch: 8 [6400/60000 (11%)]\tTrain Loss: 0.502547\n",
      "Train Epoch: 8 [12800/60000 (21%)]\tTrain Loss: 0.197372\n",
      "Train Epoch: 8 [19200/60000 (32%)]\tTrain Loss: 0.577727\n",
      "Train Epoch: 8 [25600/60000 (43%)]\tTrain Loss: 0.141280\n",
      "Train Epoch: 8 [32000/60000 (53%)]\tTrain Loss: 0.319440\n",
      "Train Epoch: 8 [38400/60000 (64%)]\tTrain Loss: 0.228656\n",
      "Train Epoch: 8 [44800/60000 (75%)]\tTrain Loss: 0.389609\n",
      "Train Epoch: 8 [51200/60000 (85%)]\tTrain Loss: 0.257779\n",
      "Train Epoch: 8 [57600/60000 (96%)]\tTrain Loss: 0.299463\n",
      "\n",
      "[EPOCH: 8], \tValidation Loss: 0.0114, \tValidation Accuracy: 89.32 % \n",
      "\n",
      "Train Epoch: 9 [0/60000 (0%)]\tTrain Loss: 0.115839\n",
      "Train Epoch: 9 [6400/60000 (11%)]\tTrain Loss: 0.704679\n",
      "Train Epoch: 9 [12800/60000 (21%)]\tTrain Loss: 0.521203\n",
      "Train Epoch: 9 [19200/60000 (32%)]\tTrain Loss: 0.386787\n",
      "Train Epoch: 9 [25600/60000 (43%)]\tTrain Loss: 0.286199\n",
      "Train Epoch: 9 [32000/60000 (53%)]\tTrain Loss: 0.614114\n",
      "Train Epoch: 9 [38400/60000 (64%)]\tTrain Loss: 0.491409\n",
      "Train Epoch: 9 [44800/60000 (75%)]\tTrain Loss: 0.357696\n",
      "Train Epoch: 9 [51200/60000 (85%)]\tTrain Loss: 0.236945\n",
      "Train Epoch: 9 [57600/60000 (96%)]\tTrain Loss: 0.408232\n",
      "\n",
      "[EPOCH: 9], \tValidation Loss: 0.0109, \tValidation Accuracy: 89.92 % \n",
      "\n",
      "Train Epoch: 10 [0/60000 (0%)]\tTrain Loss: 0.341496\n",
      "Train Epoch: 10 [6400/60000 (11%)]\tTrain Loss: 0.481462\n",
      "Train Epoch: 10 [12800/60000 (21%)]\tTrain Loss: 0.230670\n",
      "Train Epoch: 10 [19200/60000 (32%)]\tTrain Loss: 0.366705\n",
      "Train Epoch: 10 [25600/60000 (43%)]\tTrain Loss: 0.236792\n",
      "Train Epoch: 10 [32000/60000 (53%)]\tTrain Loss: 0.303300\n",
      "Train Epoch: 10 [38400/60000 (64%)]\tTrain Loss: 0.472935\n",
      "Train Epoch: 10 [44800/60000 (75%)]\tTrain Loss: 0.646064\n",
      "Train Epoch: 10 [51200/60000 (85%)]\tTrain Loss: 0.312838\n",
      "Train Epoch: 10 [57600/60000 (96%)]\tTrain Loss: 0.166867\n",
      "\n",
      "[EPOCH: 10], \tValidation Loss: 0.0105, \tValidation Accuracy: 90.15 % \n",
      "\n"
     ]
    }
   ],
   "source": [
    "''' 8. MLP 학습 실행 '''\n",
    "''' 9. EPOCH 별 Test set Loss 및 Test set Accuracy 확인하기 '''\n",
    "for epoch in range(1, EPOCHS + 1):\n",
    "    train(model, train_loader, optimizer, log_interval = 200)\n",
    "    valid_loss, valid_accuracy = evaluate(model, test_loader)\n",
    "    print(\"\\n[EPOCH: {}], \\tValidation Loss: {:.4f}, \\tValidation Accuracy: {:.2f} % \\n\".format(\n",
    "        epoch, valid_loss, valid_accuracy))"
   ]
  }
 ],
 "metadata": {
  "kernelspec": {
   "display_name": "Python 3",
   "language": "python",
   "name": "python3"
  },
  "language_info": {
   "codemirror_mode": {
    "name": "ipython",
    "version": 3
   },
   "file_extension": ".py",
   "mimetype": "text/x-python",
   "name": "python",
   "nbconvert_exporter": "python",
   "pygments_lexer": "ipython3",
   "version": "3.6.9"
  }
 },
 "nbformat": 4,
 "nbformat_minor": 4
}
