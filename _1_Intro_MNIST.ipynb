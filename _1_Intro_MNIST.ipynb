{
 "cells": [
  {
   "cell_type": "code",
   "execution_count": 1,
   "metadata": {},
   "outputs": [],
   "source": [
    "''' 1. 모듈 임포트 '''\n",
    "import numpy as np                                     # (1)\n",
    "import matplotlib.pyplot as plt                        # (2)\n",
    "\n",
    "import torch                                           # (3)\n",
    "import torch.nn as nn                                  # (4)\n",
    "import torch.nn.functional as F                        # (5)\n",
    "from torchvision import transforms, datasets           # (6)"
   ]
  },
  {
   "cell_type": "code",
   "execution_count": 2,
   "metadata": {},
   "outputs": [
    {
     "name": "stdout",
     "output_type": "stream",
     "text": [
      "Using PyTorch version: 1.5.0+cu101  Device: cuda\n"
     ]
    }
   ],
   "source": [
    "''' 2. 딥러닝 모델을 설계할 때 활용하는 장비 확인 '''\n",
    "if torch.cuda.is_available():\n",
    "    DEVICE = torch.device('cuda')\n",
    "else:\n",
    "    DEVICE = torch.device('cpu')\n",
    "\n",
    "print('Using PyTorch version:', torch.__version__, ' Device:', DEVICE)"
   ]
  },
  {
   "cell_type": "code",
   "execution_count": 3,
   "metadata": {},
   "outputs": [],
   "source": [
    "BATCH_SIZE = 32    # (1)\n",
    "EPOCHS = 10        # (2)"
   ]
  },
  {
   "cell_type": "code",
   "execution_count": 4,
   "metadata": {},
   "outputs": [],
   "source": [
    "''' 3. MNIST 데이터 다운로드 (Train set, Test set 분리하기) '''\n",
    "train_dataset = datasets.MNIST(root = \"data/MNIST\",                    # (1)\n",
    "                               train = True,\n",
    "                               download = True,\n",
    "                               transform = transforms.ToTensor())\n",
    "\n",
    "test_dataset = datasets.MNIST(root = 'data/MNIST',                     # (2)\n",
    "                              train = False,\n",
    "                              transform = transforms.ToTensor())\n",
    "\n",
    "train_loader = torch.utils.data.DataLoader(dataset = train_dataset,    # (3) \n",
    "                                           batch_size = BATCH_SIZE,\n",
    "                                           shuffle = True)\n",
    "\n",
    "test_loader = torch.utils.data.DataLoader(dataset = test_dataset,      # (4)  \n",
    "                                          batch_size = BATCH_SIZE, \n",
    "                                          shuffle = False)"
   ]
  },
  {
   "cell_type": "code",
   "execution_count": 5,
   "metadata": {},
   "outputs": [
    {
     "name": "stdout",
     "output_type": "stream",
     "text": [
      "X_train: torch.Size([32, 1, 28, 28]) type: torch.FloatTensor\n",
      "y_train: torch.Size([32]) type: torch.LongTensor\n"
     ]
    }
   ],
   "source": [
    "''' 4. 데이터 확인하기 (1) '''\n",
    "for (X_train, y_train) in train_loader:\n",
    "    print('X_train:', X_train.size(), 'type:', X_train.type())\n",
    "    print('y_train:', y_train.size(), 'type:', y_train.type())\n",
    "    break "
   ]
  },
  {
   "cell_type": "code",
   "execution_count": 7,
   "metadata": {},
   "outputs": [
    {
     "data": {
      "image/png": "[encoded data removed]",
      "text/plain": [
       "<Figure size 720x72 with 10 Axes>"
      ]
     },
     "metadata": {
      "needs_background": "light"
     },
     "output_type": "display_data"
    }
   ],
   "source": [
    "''' 4. 데이터 확인하기 (2) '''\n",
    "pltsize = 1\n",
    "plt.figure(figsize=(10 * pltsize, pltsize))\n",
    "for i in range(10):\n",
    "    plt.subplot(1, 10, i + 1)\n",
    "    plt.axis('off')\n",
    "    plt.imshow(X_train[i, :, :, :].numpy().reshape(28, 28), cmap = \"gray_r\")\n",
    "    plt.title('Class: ' + str(y_train[i].item()))"
   ]
  },
  {
   "cell_type": "code",
   "execution_count": 9,
   "metadata": {},
   "outputs": [],
   "source": [
    "''' 5. MLP (Multi Layer Perceptron) 모델 설계하기 '''\n",
    "class Net(nn.Module):                         # (1)\n",
    "    def __init__(self):                       # (2)\n",
    "        super(Net, self).__init__()           # (3)\n",
    "        self.fc1 = nn.Linear(28 * 28, 512)    # (4)\n",
    "        self.fc2 = nn.Linear(512, 256)        # (5)\n",
    "        self.fc3 = nn.Linear(256, 10)         # (6)\n",
    "    \n",
    "    def forward(self, x):                     # (7)\n",
    "        x = x.view(-1, 28 * 28)               # (8)\n",
    "        x = self.fc1(x)                       # (9)\n",
    "        x = F.sigmoid(x)                      # (10)\n",
    "        x = self.fc2(x)                       # (11)\n",
    "        x = F.sigmoid(x)                      # (12)\n",
    "        x = self.fc3(x)                       # (13)\n",
    "        x = F.log_softmax(x, dim = 1)         # (14)\n",
    "        return x                              # (15)"
   ]
  },
  {
   "cell_type": "code",
   "execution_count": 10,
   "metadata": {},
   "outputs": [
    {
     "name": "stdout",
     "output_type": "stream",
     "text": [
      "Net(\n",
      "  (fc1): Linear(in_features=784, out_features=512, bias=True)\n",
      "  (fc2): Linear(in_features=512, out_features=256, bias=True)\n",
      "  (fc3): Linear(in_features=256, out_features=10, bias=True)\n",
      ")\n"
     ]
    }
   ],
   "source": [
    "''' 6. Optimizer, Objective Function 설정하기 '''\n",
    "model = Net().to(DEVICE)\n",
    "optimizer = torch.optim.SGD(model.parameters(), lr = 0.01, momentum = 0.5)\n",
    "criterion = nn.CrossEntropyLoss()\n",
    "\n",
    "print(model)"
   ]
  },
  {
   "cell_type": "code",
   "execution_count": 11,
   "metadata": {},
   "outputs": [],
   "source": [
    "''' 7. MLP 학습, Test 성능 확인하는 함수 정의 '''\n",
    "def train(model, train_loader, optimizer, log_interval):\n",
    "    model.train()\n",
    "    for batch_idx, (image, label) in enumerate(train_loader):\n",
    "        image = image.to(DEVICE)\n",
    "        label = label.to(DEVICE)\n",
    "        optimizer.zero_grad()\n",
    "        output = model(image)\n",
    "        loss = criterion(output, label)\n",
    "        loss.backward()\n",
    "        optimizer.step()\n",
    "\n",
    "        if batch_idx % log_interval == 0:\n",
    "            print(\"Train Epoch: {} [{}/{} ({:.0f}%)]\\tTrain Loss: {:.6f}\".format(\n",
    "                epoch, batch_idx * len(image), \n",
    "                len(train_loader.dataset), 100. * batch_idx / len(train_loader), \n",
    "                loss.item()))"
   ]
  },
  {
   "cell_type": "code",
   "execution_count": 12,
   "metadata": {},
   "outputs": [],
   "source": [
    "def evaluate(model, valid_loader):\n",
    "    model.eval()\n",
    "    valid_loss = 0\n",
    "    correct = 0\n",
    "\n",
    "    with torch.no_grad():\n",
    "        for image, label in valid_loader:\n",
    "            image = image.to(DEVICE)\n",
    "            label = label.to(DEVICE)\n",
    "            output = model(image)\n",
    "            valid_loss += criterion(output, label).item()\n",
    "            prediction = output.max(1, keepdim = True)[1]\n",
    "            correct += prediction.eq(label.view_as(prediction)).sum().item()\n",
    "    \n",
    "    valid_loss /= len(valid_loader.dataset)\n",
    "    valid_accuracy = 100. * correct / len(valid_loader.dataset)\n",
    "    return valid_loss, valid_accuracy"
   ]
  },
  {
   "cell_type": "code",
   "execution_count": 13,
   "metadata": {},
   "outputs": [
    {
     "name": "stderr",
     "output_type": "stream",
     "text": [
      "/home/justin/101/lib/python3.6/site-packages/torch/nn/functional.py:1569: UserWarning: nn.functional.sigmoid is deprecated. Use torch.sigmoid instead.\n",
      "  warnings.warn(\"nn.functional.sigmoid is deprecated. Use torch.sigmoid instead.\")\n"
     ]
    },
    {
     "name": "stdout",
     "output_type": "stream",
     "text": [
      "Train Epoch: 1 [0/60000 (0%)]\tTrain Loss: 2.292545\n",
      "Train Epoch: 1 [6400/60000 (11%)]\tTrain Loss: 2.274274\n",
      "Train Epoch: 1 [12800/60000 (21%)]\tTrain Loss: 2.307139\n",
      "Train Epoch: 1 [19200/60000 (32%)]\tTrain Loss: 2.280137\n",
      "Train Epoch: 1 [25600/60000 (43%)]\tTrain Loss: 2.295745\n",
      "Train Epoch: 1 [32000/60000 (53%)]\tTrain Loss: 2.287884\n",
      "Train Epoch: 1 [38400/60000 (64%)]\tTrain Loss: 2.286742\n",
      "Train Epoch: 1 [44800/60000 (75%)]\tTrain Loss: 2.257637\n",
      "Train Epoch: 1 [51200/60000 (85%)]\tTrain Loss: 2.247926\n",
      "Train Epoch: 1 [57600/60000 (96%)]\tTrain Loss: 2.189700\n",
      "\n",
      "[EPOCH: 1], \tValidation Loss: 0.0699, \tValidation Accuracy: 25.27 % \n",
      "\n",
      "Train Epoch: 2 [0/60000 (0%)]\tTrain Loss: 2.212325\n",
      "Train Epoch: 2 [6400/60000 (11%)]\tTrain Loss: 2.224226\n",
      "Train Epoch: 2 [12800/60000 (21%)]\tTrain Loss: 2.121624\n",
      "Train Epoch: 2 [19200/60000 (32%)]\tTrain Loss: 2.077812\n",
      "Train Epoch: 2 [25600/60000 (43%)]\tTrain Loss: 1.972080\n",
      "Train Epoch: 2 [32000/60000 (53%)]\tTrain Loss: 1.845172\n",
      "Train Epoch: 2 [38400/60000 (64%)]\tTrain Loss: 1.855925\n",
      "Train Epoch: 2 [44800/60000 (75%)]\tTrain Loss: 1.598808\n",
      "Train Epoch: 2 [51200/60000 (85%)]\tTrain Loss: 1.568271\n",
      "Train Epoch: 2 [57600/60000 (96%)]\tTrain Loss: 1.502615\n",
      "\n",
      "[EPOCH: 2], \tValidation Loss: 0.0410, \tValidation Accuracy: 60.03 % \n",
      "\n",
      "Train Epoch: 3 [0/60000 (0%)]\tTrain Loss: 1.206752\n",
      "Train Epoch: 3 [6400/60000 (11%)]\tTrain Loss: 1.053380\n",
      "Train Epoch: 3 [12800/60000 (21%)]\tTrain Loss: 1.227737\n",
      "Train Epoch: 3 [19200/60000 (32%)]\tTrain Loss: 1.052586\n",
      "Train Epoch: 3 [25600/60000 (43%)]\tTrain Loss: 1.129925\n",
      "Train Epoch: 3 [32000/60000 (53%)]\tTrain Loss: 0.767019\n",
      "Train Epoch: 3 [38400/60000 (64%)]\tTrain Loss: 0.859645\n",
      "Train Epoch: 3 [44800/60000 (75%)]\tTrain Loss: 0.942931\n",
      "Train Epoch: 3 [51200/60000 (85%)]\tTrain Loss: 0.896185\n",
      "Train Epoch: 3 [57600/60000 (96%)]\tTrain Loss: 0.895780\n",
      "\n",
      "[EPOCH: 3], \tValidation Loss: 0.0234, \tValidation Accuracy: 78.46 % \n",
      "\n",
      "Train Epoch: 4 [0/60000 (0%)]\tTrain Loss: 0.689350\n",
      "Train Epoch: 4 [6400/60000 (11%)]\tTrain Loss: 0.957412\n",
      "Train Epoch: 4 [12800/60000 (21%)]\tTrain Loss: 0.675196\n",
      "Train Epoch: 4 [19200/60000 (32%)]\tTrain Loss: 0.481227\n",
      "Train Epoch: 4 [25600/60000 (43%)]\tTrain Loss: 0.538347\n",
      "Train Epoch: 4 [32000/60000 (53%)]\tTrain Loss: 1.031151\n",
      "Train Epoch: 4 [38400/60000 (64%)]\tTrain Loss: 0.546010\n",
      "Train Epoch: 4 [44800/60000 (75%)]\tTrain Loss: 0.610974\n",
      "Train Epoch: 4 [51200/60000 (85%)]\tTrain Loss: 0.593138\n",
      "Train Epoch: 4 [57600/60000 (96%)]\tTrain Loss: 0.633375\n",
      "\n",
      "[EPOCH: 4], \tValidation Loss: 0.0169, \tValidation Accuracy: 84.53 % \n",
      "\n",
      "Train Epoch: 5 [0/60000 (0%)]\tTrain Loss: 0.330425\n",
      "Train Epoch: 5 [6400/60000 (11%)]\tTrain Loss: 0.722005\n",
      "Train Epoch: 5 [12800/60000 (21%)]\tTrain Loss: 0.494837\n",
      "Train Epoch: 5 [19200/60000 (32%)]\tTrain Loss: 0.973200\n",
      "Train Epoch: 5 [25600/60000 (43%)]\tTrain Loss: 0.414034\n",
      "Train Epoch: 5 [32000/60000 (53%)]\tTrain Loss: 0.463295\n",
      "Train Epoch: 5 [38400/60000 (64%)]\tTrain Loss: 0.482475\n",
      "Train Epoch: 5 [44800/60000 (75%)]\tTrain Loss: 0.667601\n",
      "Train Epoch: 5 [51200/60000 (85%)]\tTrain Loss: 0.386543\n",
      "Train Epoch: 5 [57600/60000 (96%)]\tTrain Loss: 0.347183\n",
      "\n",
      "[EPOCH: 5], \tValidation Loss: 0.0141, \tValidation Accuracy: 86.86 % \n",
      "\n",
      "Train Epoch: 6 [0/60000 (0%)]\tTrain Loss: 0.375459\n",
      "Train Epoch: 6 [6400/60000 (11%)]\tTrain Loss: 0.455293\n",
      "Train Epoch: 6 [12800/60000 (21%)]\tTrain Loss: 0.345437\n",
      "Train Epoch: 6 [19200/60000 (32%)]\tTrain Loss: 0.518660\n",
      "Train Epoch: 6 [25600/60000 (43%)]\tTrain Loss: 0.528827\n",
      "Train Epoch: 6 [32000/60000 (53%)]\tTrain Loss: 0.673725\n",
      "Train Epoch: 6 [38400/60000 (64%)]\tTrain Loss: 0.394904\n",
      "Train Epoch: 6 [44800/60000 (75%)]\tTrain Loss: 0.249671\n",
      "Train Epoch: 6 [51200/60000 (85%)]\tTrain Loss: 0.475385\n",
      "Train Epoch: 6 [57600/60000 (96%)]\tTrain Loss: 0.551320\n",
      "\n",
      "[EPOCH: 6], \tValidation Loss: 0.0128, \tValidation Accuracy: 88.13 % \n",
      "\n",
      "Train Epoch: 7 [0/60000 (0%)]\tTrain Loss: 0.701026\n",
      "Train Epoch: 7 [6400/60000 (11%)]\tTrain Loss: 0.343825\n",
      "Train Epoch: 7 [12800/60000 (21%)]\tTrain Loss: 0.267075\n",
      "Train Epoch: 7 [19200/60000 (32%)]\tTrain Loss: 0.384195\n",
      "Train Epoch: 7 [25600/60000 (43%)]\tTrain Loss: 0.425329\n",
      "Train Epoch: 7 [32000/60000 (53%)]\tTrain Loss: 0.414527\n",
      "Train Epoch: 7 [38400/60000 (64%)]\tTrain Loss: 0.436500\n",
      "Train Epoch: 7 [44800/60000 (75%)]\tTrain Loss: 0.569619\n",
      "Train Epoch: 7 [51200/60000 (85%)]\tTrain Loss: 0.378029\n",
      "Train Epoch: 7 [57600/60000 (96%)]\tTrain Loss: 0.501492\n",
      "\n",
      "[EPOCH: 7], \tValidation Loss: 0.0119, \tValidation Accuracy: 88.97 % \n",
      "\n",
      "Train Epoch: 8 [0/60000 (0%)]\tTrain Loss: 0.297152\n",
      "Train Epoch: 8 [6400/60000 (11%)]\tTrain Loss: 0.305350\n",
      "Train Epoch: 8 [12800/60000 (21%)]\tTrain Loss: 0.146791\n",
      "Train Epoch: 8 [19200/60000 (32%)]\tTrain Loss: 0.234296\n",
      "Train Epoch: 8 [25600/60000 (43%)]\tTrain Loss: 0.409389\n",
      "Train Epoch: 8 [32000/60000 (53%)]\tTrain Loss: 0.358109\n",
      "Train Epoch: 8 [38400/60000 (64%)]\tTrain Loss: 0.514854\n",
      "Train Epoch: 8 [44800/60000 (75%)]\tTrain Loss: 0.250326\n",
      "Train Epoch: 8 [51200/60000 (85%)]\tTrain Loss: 0.445453\n",
      "Train Epoch: 8 [57600/60000 (96%)]\tTrain Loss: 0.867651\n",
      "\n",
      "[EPOCH: 8], \tValidation Loss: 0.0111, \tValidation Accuracy: 89.51 % \n",
      "\n",
      "Train Epoch: 9 [0/60000 (0%)]\tTrain Loss: 0.176994\n",
      "Train Epoch: 9 [6400/60000 (11%)]\tTrain Loss: 0.484071\n",
      "Train Epoch: 9 [12800/60000 (21%)]\tTrain Loss: 0.387697\n",
      "Train Epoch: 9 [19200/60000 (32%)]\tTrain Loss: 0.496963\n",
      "Train Epoch: 9 [25600/60000 (43%)]\tTrain Loss: 0.158876\n",
      "Train Epoch: 9 [32000/60000 (53%)]\tTrain Loss: 0.208575\n",
      "Train Epoch: 9 [38400/60000 (64%)]\tTrain Loss: 0.549886\n",
      "Train Epoch: 9 [44800/60000 (75%)]\tTrain Loss: 0.416360\n",
      "Train Epoch: 9 [51200/60000 (85%)]\tTrain Loss: 0.256288\n",
      "Train Epoch: 9 [57600/60000 (96%)]\tTrain Loss: 0.150136\n",
      "\n",
      "[EPOCH: 9], \tValidation Loss: 0.0108, \tValidation Accuracy: 90.00 % \n",
      "\n",
      "Train Epoch: 10 [0/60000 (0%)]\tTrain Loss: 0.445392\n",
      "Train Epoch: 10 [6400/60000 (11%)]\tTrain Loss: 0.167277\n",
      "Train Epoch: 10 [12800/60000 (21%)]\tTrain Loss: 0.354374\n",
      "Train Epoch: 10 [19200/60000 (32%)]\tTrain Loss: 0.412361\n",
      "Train Epoch: 10 [25600/60000 (43%)]\tTrain Loss: 0.264644\n",
      "Train Epoch: 10 [32000/60000 (53%)]\tTrain Loss: 0.118903\n",
      "Train Epoch: 10 [38400/60000 (64%)]\tTrain Loss: 0.230491\n",
      "Train Epoch: 10 [44800/60000 (75%)]\tTrain Loss: 0.421301\n",
      "Train Epoch: 10 [51200/60000 (85%)]\tTrain Loss: 0.345329\n",
      "Train Epoch: 10 [57600/60000 (96%)]\tTrain Loss: 0.249023\n",
      "\n",
      "[EPOCH: 10], \tValidation Loss: 0.0105, \tValidation Accuracy: 90.32 % \n",
      "\n"
     ]
    }
   ],
   "source": [
    "''' 8. MLP 학습 실행 '''\n",
    "''' 9. EPOCH 별 Test set Loss 및 Test set Accuracy 확인하기 '''\n",
    "for epoch in range(1, EPOCHS + 1):\n",
    "    train(model, train_loader, optimizer, log_interval = 200)\n",
    "    valid_loss, valid_accuracy = evaluate(model, test_loader)\n",
    "    print(\"\\n[EPOCH: {}], \\tValidation Loss: {:.4f}, \\tValidation Accuracy: {:.2f} % \\n\".format(\n",
    "        epoch, valid_loss, valid_accuracy))"
   ]
  },
  {
   "cell_type": "code",
   "execution_count": null,
   "metadata": {},
   "outputs": [],
   "source": []
  }
 ],
 "metadata": {
  "kernelspec": {
   "display_name": "Python 3",
   "language": "python",
   "name": "python3"
  },
  "language_info": {
   "codemirror_mode": {
    "name": "ipython",
    "version": 3
   },
   "file_extension": ".py",
   "mimetype": "text/x-python",
   "name": "python",
   "nbconvert_exporter": "python",
   "pygments_lexer": "ipython3",
   "version": "3.6.9"
  }
 },
 "nbformat": 4,
 "nbformat_minor": 4
}
