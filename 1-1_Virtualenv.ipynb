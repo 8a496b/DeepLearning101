{
 "cells": [
  {
   "cell_type": "markdown",
   "metadata": {},
   "source": [
    "# Python Virtualenv - Windows"
   ]
  },
  {
   "cell_type": "markdown",
   "metadata": {},
   "source": [
    "- pip install virtualenv                          # (1)\n",
    "- virtualenv [name of virtualenv]                 # (2-1)\n",
    "- virtualenv [name of virtualenv] --python=3.6    # (2-2)\n",
    "- call [name of virtualenv]/scripts/activate      # (3)\n",
    "- deactivate                                      # (4)"
   ]
  },
  {
   "cell_type": "markdown",
   "metadata": {},
   "source": [
    "# Python Virtualenv - Linux"
   ]
  },
  {
   "cell_type": "markdown",
   "metadata": {},
   "source": [
    "- pip install virtualenv                          # (1)\n",
    "- virtualenv [name of virtualenv]                 # (2-1)\n",
    "- virtualenv [name of virtualenv] --python=3.6    # (2-2)\n",
    "- source [name of virtualenv]/bin/activate        # (3)\n",
    "- deactivate                                      # (4)"
   ]
  },
  {
   "cell_type": "markdown",
   "metadata": {},
   "source": [
    "# Anaconda Virtualenv - Windows"
   ]
  },
  {
   "cell_type": "markdown",
   "metadata": {},
   "source": [
    "- conda create [name of virtualenv]                 # (1-1)\n",
    "- conda create [name of virtualenv] pandas torch    # (1-2)\n",
    "- conda create [name of virtualenv] python=3.6      # (1-3)\n",
    "- activate [name of virtualenv]                     # (2)\n",
    "- deactivate                                        # (3)"
   ]
  },
  {
   "cell_type": "markdown",
   "metadata": {},
   "source": [
    "# Anaconda Virtualenv - Linux"
   ]
  },
  {
   "cell_type": "markdown",
   "metadata": {},
   "source": [
    "- conda create [name of virtualenv]                 # (1-1)\n",
    "- conda create [name of virtualenv] pandas torch    # (1-2)\n",
    "- conda create [name of virtualenv] python=3.6      # (1-3)\n",
    "- source activate [name of virtualenv]              # (2)\n",
    "- source deactivate                                 # (3)"
   ]
  }
 ],
 "metadata": {
  "kernelspec": {
   "display_name": "Python 3",
   "language": "python",
   "name": "python3"
  },
  "language_info": {
   "codemirror_mode": {
    "name": "ipython",
    "version": 3
   },
   "file_extension": ".py",
   "mimetype": "text/x-python",
   "name": "python",
   "nbconvert_exporter": "python",
   "pygments_lexer": "ipython3",
   "version": "3.6.8"
  }
 },
 "nbformat": 4,
 "nbformat_minor": 4
}
